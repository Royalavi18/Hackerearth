{
  "nbformat": 4,
  "nbformat_minor": 0,
  "metadata": {
    "colab": {
      "name": "Sentimental Model.ipynb",
      "provenance": [],
      "collapsed_sections": []
    },
    "kernelspec": {
      "name": "python3",
      "display_name": "Python 3"
    },
    "accelerator": "GPU"
  },
  "cells": [
    {
      "cell_type": "code",
      "metadata": {
        "id": "ZpGpIqBtvrN_",
        "colab_type": "code",
        "colab": {}
      },
      "source": [
        "from tensorflow.keras.preprocessing.text import Tokenizer\n",
        "from tensorflow.keras.preprocessing.sequence import pad_sequences\n"
      ],
      "execution_count": null,
      "outputs": []
    },
    {
      "cell_type": "code",
      "metadata": {
        "id": "sbB_-o25vxwI",
        "colab_type": "code",
        "colab": {}
      },
      "source": [
        "import tensorflow as tf"
      ],
      "execution_count": null,
      "outputs": []
    },
    {
      "cell_type": "code",
      "metadata": {
        "id": "C0QMseWpvzrR",
        "colab_type": "code",
        "colab": {
          "base_uri": "https://localhost:8080/",
          "height": 346
        },
        "outputId": "33751eb9-d039-4e79-f5ee-80d716697052"
      },
      "source": [
        "!wget --no-check-certificate \\\n",
        "    -O /tmp/sentiment.csv https://drive.google.com/uc?id=13ySLC_ue6Umt9RJYSeM2t-V0kCv-4C-P"
      ],
      "execution_count": null,
      "outputs": [
        {
          "output_type": "stream",
          "text": [
            "--2020-07-06 13:30:06--  https://drive.google.com/uc?id=13ySLC_ue6Umt9RJYSeM2t-V0kCv-4C-P\n",
            "Resolving drive.google.com (drive.google.com)... 172.217.203.138, 172.217.203.113, 172.217.203.139, ...\n",
            "Connecting to drive.google.com (drive.google.com)|172.217.203.138|:443... connected.\n",
            "HTTP request sent, awaiting response... 302 Moved Temporarily\n",
            "Location: https://doc-08-ak-docs.googleusercontent.com/docs/securesc/ha0ro937gcuc7l7deffksulhg5h7mbp1/bhrqiu8vprecsrh8bn6e5snb6g4q84dv/1594042200000/11118900490791463723/*/13ySLC_ue6Umt9RJYSeM2t-V0kCv-4C-P [following]\n",
            "Warning: wildcards not supported in HTTP.\n",
            "--2020-07-06 13:30:07--  https://doc-08-ak-docs.googleusercontent.com/docs/securesc/ha0ro937gcuc7l7deffksulhg5h7mbp1/bhrqiu8vprecsrh8bn6e5snb6g4q84dv/1594042200000/11118900490791463723/*/13ySLC_ue6Umt9RJYSeM2t-V0kCv-4C-P\n",
            "Resolving doc-08-ak-docs.googleusercontent.com (doc-08-ak-docs.googleusercontent.com)... 172.217.203.132, 2607:f8b0:400c:c07::84\n",
            "Connecting to doc-08-ak-docs.googleusercontent.com (doc-08-ak-docs.googleusercontent.com)|172.217.203.132|:443... connected.\n",
            "HTTP request sent, awaiting response... 200 OK\n",
            "Length: 127831 (125K) [text/csv]\n",
            "Saving to: ‘/tmp/sentiment.csv’\n",
            "\n",
            "\r/tmp/sentiment.csv    0%[                    ]       0  --.-KB/s               \r/tmp/sentiment.csv  100%[===================>] 124.83K  --.-KB/s    in 0.001s  \n",
            "\n",
            "2020-07-06 13:30:07 (93.8 MB/s) - ‘/tmp/sentiment.csv’ saved [127831/127831]\n",
            "\n"
          ],
          "name": "stdout"
        }
      ]
    },
    {
      "cell_type": "code",
      "metadata": {
        "id": "XM4tB57Gw3i8",
        "colab_type": "code",
        "colab": {}
      },
      "source": [
        "import numpy as np\n",
        "import pandas as pd\n"
      ],
      "execution_count": null,
      "outputs": []
    },
    {
      "cell_type": "code",
      "metadata": {
        "id": "FR0wltwLxElB",
        "colab_type": "code",
        "colab": {}
      },
      "source": [
        "dataset=pd.read_csv('/tmp/sentiment.csv')"
      ],
      "execution_count": null,
      "outputs": []
    },
    {
      "cell_type": "code",
      "metadata": {
        "id": "bnApW3T5xKaG",
        "colab_type": "code",
        "colab": {
          "base_uri": "https://localhost:8080/",
          "height": 198
        },
        "outputId": "b7d469a4-df39-4d8a-8555-c300f3ca186b"
      },
      "source": [
        "dataset.head()"
      ],
      "execution_count": null,
      "outputs": [
        {
          "output_type": "execute_result",
          "data": {
            "text/html": [
              "<div>\n",
              "<style scoped>\n",
              "    .dataframe tbody tr th:only-of-type {\n",
              "        vertical-align: middle;\n",
              "    }\n",
              "\n",
              "    .dataframe tbody tr th {\n",
              "        vertical-align: top;\n",
              "    }\n",
              "\n",
              "    .dataframe thead th {\n",
              "        text-align: right;\n",
              "    }\n",
              "</style>\n",
              "<table border=\"1\" class=\"dataframe\">\n",
              "  <thead>\n",
              "    <tr style=\"text-align: right;\">\n",
              "      <th></th>\n",
              "      <th>Unnamed: 0</th>\n",
              "      <th>text</th>\n",
              "      <th>sentiment</th>\n",
              "    </tr>\n",
              "  </thead>\n",
              "  <tbody>\n",
              "    <tr>\n",
              "      <th>0</th>\n",
              "      <td>0</td>\n",
              "      <td>So there is no way for me to plug it in here i...</td>\n",
              "      <td>0</td>\n",
              "    </tr>\n",
              "    <tr>\n",
              "      <th>1</th>\n",
              "      <td>1</td>\n",
              "      <td>Good case Excellent value.</td>\n",
              "      <td>1</td>\n",
              "    </tr>\n",
              "    <tr>\n",
              "      <th>2</th>\n",
              "      <td>2</td>\n",
              "      <td>Great for the jawbone.</td>\n",
              "      <td>1</td>\n",
              "    </tr>\n",
              "    <tr>\n",
              "      <th>3</th>\n",
              "      <td>3</td>\n",
              "      <td>Tied to charger for conversations lasting more...</td>\n",
              "      <td>0</td>\n",
              "    </tr>\n",
              "    <tr>\n",
              "      <th>4</th>\n",
              "      <td>4</td>\n",
              "      <td>The mic is great.</td>\n",
              "      <td>1</td>\n",
              "    </tr>\n",
              "  </tbody>\n",
              "</table>\n",
              "</div>"
            ],
            "text/plain": [
              "   Unnamed: 0                                               text  sentiment\n",
              "0           0  So there is no way for me to plug it in here i...          0\n",
              "1           1                         Good case Excellent value.          1\n",
              "2           2                             Great for the jawbone.          1\n",
              "3           3  Tied to charger for conversations lasting more...          0\n",
              "4           4                                  The mic is great.          1"
            ]
          },
          "metadata": {
            "tags": []
          },
          "execution_count": 6
        }
      ]
    },
    {
      "cell_type": "code",
      "metadata": {
        "id": "IlUf4OPxxoy7",
        "colab_type": "code",
        "colab": {}
      },
      "source": [
        "sentences=dataset['text'].tolist()\n",
        "labels=dataset['sentiment'].tolist()"
      ],
      "execution_count": null,
      "outputs": []
    },
    {
      "cell_type": "code",
      "metadata": {
        "id": "br5eJRzpyteb",
        "colab_type": "code",
        "colab": {}
      },
      "source": [
        "training_size=int(len(dataset)*0.8)\n",
        "\n",
        "training_sentences=sentences[0:training_size]\n",
        "testing_sentences = sentences[training_size:]\n",
        "\n",
        "training_labels=labels[:training_size]\n",
        "testing_labels=labels[training_size:]\n"
      ],
      "execution_count": null,
      "outputs": []
    },
    {
      "cell_type": "code",
      "metadata": {
        "id": "W2s3fYMTzUQ6",
        "colab_type": "code",
        "colab": {}
      },
      "source": [
        "training_labels_final=np.array(training_labels)\n",
        "testing_labels_final=np.array(testing_labels)"
      ],
      "execution_count": null,
      "outputs": []
    },
    {
      "cell_type": "code",
      "metadata": {
        "id": "iAJv0wWBzx7d",
        "colab_type": "code",
        "colab": {}
      },
      "source": [
        "tokenizer=Tokenizer(num_words=1000,oov_token='<OOV>')\n",
        "tokenizer.fit_on_texts(training_sentences)\n",
        "\n",
        "word_index=tokenizer.word_index\n",
        "\n",
        "sequences=tokenizer.texts_to_sequences(training_sentences)\n",
        "\n",
        "padded=pad_sequences(sequences,padding='post' ,maxlen=100,truncating='post')\n",
        "\n",
        "testing_sequences=tokenizer.texts_to_sequences(testing_sentences)\n",
        "testing_padded=pad_sequences(testing_sequences,padding='post' ,maxlen=100,truncating='post')"
      ],
      "execution_count": null,
      "outputs": []
    },
    {
      "cell_type": "code",
      "metadata": {
        "id": "zMlgRi13z053",
        "colab_type": "code",
        "colab": {}
      },
      "source": [
        "reverse_word_index=dict([(value,key) for (key,value) in word_index.items()])"
      ],
      "execution_count": null,
      "outputs": []
    },
    {
      "cell_type": "code",
      "metadata": {
        "id": "EIhUPVYT1xzo",
        "colab_type": "code",
        "colab": {
          "base_uri": "https://localhost:8080/",
          "height": 74
        },
        "outputId": "db43f107-b89e-43ff-9a1a-325e28d63aa6"
      },
      "source": [
        "def decode_review(text):\n",
        "    return \" \".join([reverse_word_index.get(i,'?') for i in text])\n",
        "\n",
        "print(decode_review(padded[1]))\n",
        "print(training_sentences[1])"
      ],
      "execution_count": null,
      "outputs": [
        {
          "output_type": "stream",
          "text": [
            "good case excellent value ? ? ? ? ? ? ? ? ? ? ? ? ? ? ? ? ? ? ? ? ? ? ? ? ? ? ? ? ? ? ? ? ? ? ? ? ? ? ? ? ? ? ? ? ? ? ? ? ? ? ? ? ? ? ? ? ? ? ? ? ? ? ? ? ? ? ? ? ? ? ? ? ? ? ? ? ? ? ? ? ? ? ? ? ? ? ? ? ? ? ? ? ? ? ? ?\n",
            "Good case Excellent value.\n"
          ],
          "name": "stdout"
        }
      ]
    },
    {
      "cell_type": "code",
      "metadata": {
        "id": "Na3IbtHd1x1f",
        "colab_type": "code",
        "colab": {}
      },
      "source": [
        "model=tf.keras.Sequential([\n",
        "    tf.keras.layers.Embedding(1000,16,input_length=100),\n",
        "    tf.keras.layers.Flatten(),\n",
        "    tf.keras.layers.Dense(6,activation='relu'),\n",
        "    tf.keras.layers.Dense(1 , activation='sigmoid')\n",
        "])"
      ],
      "execution_count": null,
      "outputs": []
    },
    {
      "cell_type": "code",
      "metadata": {
        "id": "N0o3_iWIUS7q",
        "colab_type": "code",
        "colab": {
          "base_uri": "https://localhost:8080/",
          "height": 308
        },
        "outputId": "cc4ccb97-d363-4591-de67-87a8d841682c"
      },
      "source": [
        "model.summary()"
      ],
      "execution_count": null,
      "outputs": [
        {
          "output_type": "stream",
          "text": [
            "Model: \"sequential_1\"\n",
            "_________________________________________________________________\n",
            "Layer (type)                 Output Shape              Param #   \n",
            "=================================================================\n",
            "embedding_2 (Embedding)      (None, 100, 16)           16000     \n",
            "_________________________________________________________________\n",
            "flatten_1 (Flatten)          (None, 1600)              0         \n",
            "_________________________________________________________________\n",
            "dense_2 (Dense)              (None, 6)                 9606      \n",
            "_________________________________________________________________\n",
            "dense_3 (Dense)              (None, 1)                 7         \n",
            "=================================================================\n",
            "Total params: 25,613\n",
            "Trainable params: 25,613\n",
            "Non-trainable params: 0\n",
            "_________________________________________________________________\n"
          ],
          "name": "stdout"
        }
      ]
    },
    {
      "cell_type": "code",
      "metadata": {
        "id": "t4FIVP5JUmQu",
        "colab_type": "code",
        "colab": {}
      },
      "source": [
        "model.compile(\n",
        "    loss='binary_crossentropy',\n",
        "    optimizer='adam',\n",
        "    metrics=['accuracy']\n",
        ")"
      ],
      "execution_count": null,
      "outputs": []
    },
    {
      "cell_type": "code",
      "metadata": {
        "id": "k9rRpq1jU1Me",
        "colab_type": "code",
        "colab": {
          "base_uri": "https://localhost:8080/",
          "height": 783
        },
        "outputId": "ec3eba7d-52cc-464b-e76e-eefd00ad5977"
      },
      "source": [
        "num_epochs=20\n",
        "model.fit(padded,training_labels_final,\n",
        "          epochs=num_epochs,\n",
        "          validation_data=(testing_padded,testing_labels_final))"
      ],
      "execution_count": null,
      "outputs": [
        {
          "output_type": "stream",
          "text": [
            "Epoch 1/20\n",
            "50/50 [==============================] - 0s 6ms/step - loss: 0.6924 - accuracy: 0.5173 - val_loss: 0.7026 - val_accuracy: 0.4110\n",
            "Epoch 2/20\n",
            "50/50 [==============================] - 0s 4ms/step - loss: 0.6862 - accuracy: 0.6089 - val_loss: 0.7057 - val_accuracy: 0.4160\n",
            "Epoch 3/20\n",
            "50/50 [==============================] - 0s 4ms/step - loss: 0.6602 - accuracy: 0.6861 - val_loss: 0.6624 - val_accuracy: 0.6065\n",
            "Epoch 4/20\n",
            "50/50 [==============================] - 0s 4ms/step - loss: 0.5691 - accuracy: 0.8092 - val_loss: 0.5873 - val_accuracy: 0.7544\n",
            "Epoch 5/20\n",
            "50/50 [==============================] - 0s 4ms/step - loss: 0.4370 - accuracy: 0.8688 - val_loss: 0.5079 - val_accuracy: 0.7569\n",
            "Epoch 6/20\n",
            "50/50 [==============================] - 0s 4ms/step - loss: 0.3185 - accuracy: 0.9178 - val_loss: 0.5263 - val_accuracy: 0.7419\n",
            "Epoch 7/20\n",
            "50/50 [==============================] - 0s 4ms/step - loss: 0.2409 - accuracy: 0.9397 - val_loss: 0.4782 - val_accuracy: 0.7669\n",
            "Epoch 8/20\n",
            "50/50 [==============================] - 0s 4ms/step - loss: 0.1868 - accuracy: 0.9517 - val_loss: 0.4830 - val_accuracy: 0.7444\n",
            "Epoch 9/20\n",
            "50/50 [==============================] - 0s 4ms/step - loss: 0.1480 - accuracy: 0.9630 - val_loss: 0.4866 - val_accuracy: 0.7594\n",
            "Epoch 10/20\n",
            "50/50 [==============================] - 0s 4ms/step - loss: 0.1162 - accuracy: 0.9730 - val_loss: 0.4733 - val_accuracy: 0.7544\n",
            "Epoch 11/20\n",
            "50/50 [==============================] - 0s 4ms/step - loss: 0.0933 - accuracy: 0.9831 - val_loss: 0.4602 - val_accuracy: 0.8020\n",
            "Epoch 12/20\n",
            "50/50 [==============================] - 0s 4ms/step - loss: 0.0773 - accuracy: 0.9868 - val_loss: 0.5152 - val_accuracy: 0.7619\n",
            "Epoch 13/20\n",
            "50/50 [==============================] - 0s 4ms/step - loss: 0.0631 - accuracy: 0.9893 - val_loss: 0.5080 - val_accuracy: 0.7719\n",
            "Epoch 14/20\n",
            "50/50 [==============================] - 0s 4ms/step - loss: 0.0514 - accuracy: 0.9944 - val_loss: 0.5407 - val_accuracy: 0.7719\n",
            "Epoch 15/20\n",
            "50/50 [==============================] - 0s 4ms/step - loss: 0.0440 - accuracy: 0.9931 - val_loss: 0.5219 - val_accuracy: 0.7794\n",
            "Epoch 16/20\n",
            "50/50 [==============================] - 0s 4ms/step - loss: 0.0371 - accuracy: 0.9950 - val_loss: 0.5316 - val_accuracy: 0.7794\n",
            "Epoch 17/20\n",
            "50/50 [==============================] - 0s 3ms/step - loss: 0.0314 - accuracy: 0.9962 - val_loss: 0.5629 - val_accuracy: 0.7719\n",
            "Epoch 18/20\n",
            "50/50 [==============================] - 0s 3ms/step - loss: 0.0268 - accuracy: 0.9962 - val_loss: 0.5859 - val_accuracy: 0.7669\n",
            "Epoch 19/20\n",
            "50/50 [==============================] - 0s 4ms/step - loss: 0.0237 - accuracy: 0.9969 - val_loss: 0.5729 - val_accuracy: 0.7794\n",
            "Epoch 20/20\n",
            "50/50 [==============================] - 0s 4ms/step - loss: 0.0208 - accuracy: 0.9981 - val_loss: 0.6123 - val_accuracy: 0.7594\n"
          ],
          "name": "stdout"
        },
        {
          "output_type": "execute_result",
          "data": {
            "text/plain": [
              "<tensorflow.python.keras.callbacks.History at 0x7fd07db9c080>"
            ]
          },
          "metadata": {
            "tags": []
          },
          "execution_count": 27
        }
      ]
    },
    {
      "cell_type": "code",
      "metadata": {
        "id": "4LeAY32TVcVo",
        "colab_type": "code",
        "colab": {
          "base_uri": "https://localhost:8080/",
          "height": 35
        },
        "outputId": "603dfdd9-a5cd-4efb-8aa7-8c97d9bd2aca"
      },
      "source": [
        "len(testing_labels_final)"
      ],
      "execution_count": null,
      "outputs": [
        {
          "output_type": "execute_result",
          "data": {
            "text/plain": [
              "399"
            ]
          },
          "metadata": {
            "tags": []
          },
          "execution_count": 28
        }
      ]
    },
    {
      "cell_type": "code",
      "metadata": {
        "id": "xRGVCIEsVeE9",
        "colab_type": "code",
        "colab": {
          "base_uri": "https://localhost:8080/",
          "height": 35
        },
        "outputId": "63acd344-162f-4b54-cce1-b1124d60965c"
      },
      "source": [
        "e = model.layers[0]\n",
        "weights=e.get_weights()[0]\n",
        "\n",
        "print(weights.shape)"
      ],
      "execution_count": null,
      "outputs": [
        {
          "output_type": "stream",
          "text": [
            "(1000, 16)\n"
          ],
          "name": "stdout"
        }
      ]
    },
    {
      "cell_type": "code",
      "metadata": {
        "id": "aSnTDthKWlvd",
        "colab_type": "code",
        "colab": {}
      },
      "source": [
        "import io\n",
        "\n",
        "out_v = io.open('vecs.tsv' , 'w' ,encoding='utf-8')\n",
        "out_m = io.open('meta.tsv' , 'w' ,encoding='utf-8')\n",
        "\n",
        "for word_num in range(1,1000):\n",
        "    word = reverse_word_index[word_num]\n",
        "    embeddings = weights[word_num]\n",
        "    out_m.write(word + \"\\n\")\n",
        "    out_v.write('\\t'.join([str(x) for x in embeddings]) + '\\n')\n",
        "out_v.close()\n",
        "out_m.close()"
      ],
      "execution_count": null,
      "outputs": []
    },
    {
      "cell_type": "code",
      "metadata": {
        "id": "5UpiJ7wcYBOe",
        "colab_type": "code",
        "colab": {
          "base_uri": "https://localhost:8080/",
          "height": 17
        },
        "outputId": "458b23ae-4576-451e-dfbc-40277626954d"
      },
      "source": [
        "try:\n",
        "  from google.colab import files\n",
        "except ImportError:\n",
        "  pass\n",
        "else:\n",
        "  files.download('vecs.tsv')\n",
        "  files.download('meta.tsv')"
      ],
      "execution_count": null,
      "outputs": [
        {
          "output_type": "display_data",
          "data": {
            "application/javascript": [
              "\n",
              "    async function download(id, filename, size) {\n",
              "      if (!google.colab.kernel.accessAllowed) {\n",
              "        return;\n",
              "      }\n",
              "      const div = document.createElement('div');\n",
              "      const label = document.createElement('label');\n",
              "      label.textContent = `Downloading \"${filename}\": `;\n",
              "      div.appendChild(label);\n",
              "      const progress = document.createElement('progress');\n",
              "      progress.max = size;\n",
              "      div.appendChild(progress);\n",
              "      document.body.appendChild(div);\n",
              "\n",
              "      const buffers = [];\n",
              "      let downloaded = 0;\n",
              "\n",
              "      const channel = await google.colab.kernel.comms.open(id);\n",
              "      // Send a message to notify the kernel that we're ready.\n",
              "      channel.send({})\n",
              "\n",
              "      for await (const message of channel.messages) {\n",
              "        // Send a message to notify the kernel that we're ready.\n",
              "        channel.send({})\n",
              "        if (message.buffers) {\n",
              "          for (const buffer of message.buffers) {\n",
              "            buffers.push(buffer);\n",
              "            downloaded += buffer.byteLength;\n",
              "            progress.value = downloaded;\n",
              "          }\n",
              "        }\n",
              "      }\n",
              "      const blob = new Blob(buffers, {type: 'application/binary'});\n",
              "      const a = document.createElement('a');\n",
              "      a.href = window.URL.createObjectURL(blob);\n",
              "      a.download = filename;\n",
              "      div.appendChild(a);\n",
              "      a.click();\n",
              "      div.remove();\n",
              "    }\n",
              "  "
            ],
            "text/plain": [
              "<IPython.core.display.Javascript object>"
            ]
          },
          "metadata": {
            "tags": []
          }
        },
        {
          "output_type": "display_data",
          "data": {
            "application/javascript": [
              "download(\"download_2b488733-6476-4d22-9fcb-6a226fe9c857\", \"vecs.tsv\", 188439)"
            ],
            "text/plain": [
              "<IPython.core.display.Javascript object>"
            ]
          },
          "metadata": {
            "tags": []
          }
        },
        {
          "output_type": "display_data",
          "data": {
            "application/javascript": [
              "\n",
              "    async function download(id, filename, size) {\n",
              "      if (!google.colab.kernel.accessAllowed) {\n",
              "        return;\n",
              "      }\n",
              "      const div = document.createElement('div');\n",
              "      const label = document.createElement('label');\n",
              "      label.textContent = `Downloading \"${filename}\": `;\n",
              "      div.appendChild(label);\n",
              "      const progress = document.createElement('progress');\n",
              "      progress.max = size;\n",
              "      div.appendChild(progress);\n",
              "      document.body.appendChild(div);\n",
              "\n",
              "      const buffers = [];\n",
              "      let downloaded = 0;\n",
              "\n",
              "      const channel = await google.colab.kernel.comms.open(id);\n",
              "      // Send a message to notify the kernel that we're ready.\n",
              "      channel.send({})\n",
              "\n",
              "      for await (const message of channel.messages) {\n",
              "        // Send a message to notify the kernel that we're ready.\n",
              "        channel.send({})\n",
              "        if (message.buffers) {\n",
              "          for (const buffer of message.buffers) {\n",
              "            buffers.push(buffer);\n",
              "            downloaded += buffer.byteLength;\n",
              "            progress.value = downloaded;\n",
              "          }\n",
              "        }\n",
              "      }\n",
              "      const blob = new Blob(buffers, {type: 'application/binary'});\n",
              "      const a = document.createElement('a');\n",
              "      a.href = window.URL.createObjectURL(blob);\n",
              "      a.download = filename;\n",
              "      div.appendChild(a);\n",
              "      a.click();\n",
              "      div.remove();\n",
              "    }\n",
              "  "
            ],
            "text/plain": [
              "<IPython.core.display.Javascript object>"
            ]
          },
          "metadata": {
            "tags": []
          }
        },
        {
          "output_type": "display_data",
          "data": {
            "application/javascript": [
              "download(\"download_098fa238-f89d-477a-b31f-35c1cc0a81b3\", \"meta.tsv\", 6617)"
            ],
            "text/plain": [
              "<IPython.core.display.Javascript object>"
            ]
          },
          "metadata": {
            "tags": []
          }
        }
      ]
    },
    {
      "cell_type": "code",
      "metadata": {
        "id": "rPljVLDXYZ4r",
        "colab_type": "code",
        "colab": {
          "base_uri": "https://localhost:8080/",
          "height": 837
        },
        "outputId": "1969d9ab-322f-44b9-c790-ef3860eef20f"
      },
      "source": [
        "# Use the model to predict a review   \n",
        "fake_reviews = ['I love this phone', 'I hate spaghetti', \n",
        "                'Everything was cold',\n",
        "                'Everything was hot exactly as I wanted', \n",
        "                'Everything was green', \n",
        "                'the host seated us immediately',\n",
        "                'they gave us free chocolate cake', \n",
        "                'not sure about the wilted flowers on the table',\n",
        "                'only works when I stand on tippy toes', \n",
        "                'does not work when I stand on my head']\n",
        "\n",
        "print(fake_reviews) \n",
        "\n",
        "# Create the sequences\n",
        "padding_type='post'\n",
        "sample_sequences = tokenizer.texts_to_sequences(fake_reviews)\n",
        "fakes_padded = pad_sequences(sample_sequences, padding=padding_type, maxlen=100)           \n",
        "\n",
        "print('\\nHOT OFF THE PRESS! HERE ARE SOME NEWLY MINTED, ABSOLUTELY GENUINE REVIEWS!\\n')              \n",
        "\n",
        "classes = model.predict(fakes_padded)\n",
        "\n",
        "# The closer the class is to 1, the more positive the review is deemed to be\n",
        "for x in range(len(fake_reviews)):\n",
        "  print(fake_reviews[x])\n",
        "  print(classes[x])\n",
        "  print('\\n')\n",
        "\n",
        "# Try adding reviews of your own\n",
        "# Add some negative words (such as \"not\") to the good reviews and see what happens\n",
        "# For example:\n",
        "# they gave us free chocolate cake and did not charge us"
      ],
      "execution_count": null,
      "outputs": [
        {
          "output_type": "stream",
          "text": [
            "['I love this phone', 'I hate spaghetti', 'Everything was cold', 'Everything was hot exactly as I wanted', 'Everything was green', 'the host seated us immediately', 'they gave us free chocolate cake', 'not sure about the wilted flowers on the table', 'only works when I stand on tippy toes', 'does not work when I stand on my head']\n",
            "\n",
            "HOT OFF THE PRESS! HERE ARE SOME NEWLY MINTED, ABSOLUTELY GENUINE REVIEWS!\n",
            "\n",
            "I love this phone\n",
            "[0.99919945]\n",
            "\n",
            "\n",
            "I hate spaghetti\n",
            "[0.00405019]\n",
            "\n",
            "\n",
            "Everything was cold\n",
            "[0.04240825]\n",
            "\n",
            "\n",
            "Everything was hot exactly as I wanted\n",
            "[0.27254862]\n",
            "\n",
            "\n",
            "Everything was green\n",
            "[0.26528642]\n",
            "\n",
            "\n",
            "the host seated us immediately\n",
            "[0.9876414]\n",
            "\n",
            "\n",
            "they gave us free chocolate cake\n",
            "[0.9948159]\n",
            "\n",
            "\n",
            "not sure about the wilted flowers on the table\n",
            "[0.00137473]\n",
            "\n",
            "\n",
            "only works when I stand on tippy toes\n",
            "[0.9930982]\n",
            "\n",
            "\n",
            "does not work when I stand on my head\n",
            "[0.00014521]\n",
            "\n",
            "\n"
          ],
          "name": "stdout"
        }
      ]
    },
    {
      "cell_type": "code",
      "metadata": {
        "id": "icw78czbqBAT",
        "colab_type": "code",
        "colab": {
          "base_uri": "https://localhost:8080/",
          "height": 171
        },
        "outputId": "c2915ce0-5368-4f5d-e26d-786a948d8f4e"
      },
      "source": [
        "model.summary()"
      ],
      "execution_count": null,
      "outputs": [
        {
          "output_type": "error",
          "ename": "NameError",
          "evalue": "ignored",
          "traceback": [
            "\u001b[0;31m---------------------------------------------------------------------------\u001b[0m",
            "\u001b[0;31mNameError\u001b[0m                                 Traceback (most recent call last)",
            "\u001b[0;32m<ipython-input-1-5f15418b3570>\u001b[0m in \u001b[0;36m<module>\u001b[0;34m()\u001b[0m\n\u001b[0;32m----> 1\u001b[0;31m \u001b[0mmodel\u001b[0m\u001b[0;34m.\u001b[0m\u001b[0msummary\u001b[0m\u001b[0;34m(\u001b[0m\u001b[0;34m)\u001b[0m\u001b[0;34m\u001b[0m\u001b[0;34m\u001b[0m\u001b[0m\n\u001b[0m",
            "\u001b[0;31mNameError\u001b[0m: name 'model' is not defined"
          ]
        }
      ]
    },
    {
      "cell_type": "code",
      "metadata": {
        "id": "PbRzJPeKrOpP",
        "colab_type": "code",
        "colab": {}
      },
      "source": [
        ""
      ],
      "execution_count": null,
      "outputs": []
    }
  ]
}