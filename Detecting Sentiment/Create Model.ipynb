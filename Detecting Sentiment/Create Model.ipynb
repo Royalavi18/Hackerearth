{
  "nbformat": 4,
  "nbformat_minor": 0,
  "metadata": {
    "colab": {
      "name": "Using CNN,GRU,LSTM.ipynb",
      "provenance": [],
      "collapsed_sections": []
    },
    "kernelspec": {
      "name": "python3",
      "display_name": "Python 3"
    },
    "accelerator": "GPU",
    "widgets": {
      "application/vnd.jupyter.widget-state+json": {
        "ffa9c07279a94f7fa88003a28a9dccab": {
          "model_module": "@jupyter-widgets/controls",
          "model_name": "HBoxModel",
          "state": {
            "_view_name": "HBoxView",
            "_dom_classes": [],
            "_model_name": "HBoxModel",
            "_view_module": "@jupyter-widgets/controls",
            "_model_module_version": "1.5.0",
            "_view_count": null,
            "_view_module_version": "1.5.0",
            "box_style": "",
            "layout": "IPY_MODEL_7abab77e016d4655ad20833274441738",
            "_model_module": "@jupyter-widgets/controls",
            "children": [
              "IPY_MODEL_96d53fbe4b034f929a1b896228834ad2",
              "IPY_MODEL_38f08073fdb44c0f97d8f5f68148bf5f"
            ]
          }
        },
        "7abab77e016d4655ad20833274441738": {
          "model_module": "@jupyter-widgets/base",
          "model_name": "LayoutModel",
          "state": {
            "_view_name": "LayoutView",
            "grid_template_rows": null,
            "right": null,
            "justify_content": null,
            "_view_module": "@jupyter-widgets/base",
            "overflow": null,
            "_model_module_version": "1.2.0",
            "_view_count": null,
            "flex_flow": null,
            "width": null,
            "min_width": null,
            "border": null,
            "align_items": null,
            "bottom": null,
            "_model_module": "@jupyter-widgets/base",
            "top": null,
            "grid_column": null,
            "overflow_y": null,
            "overflow_x": null,
            "grid_auto_flow": null,
            "grid_area": null,
            "grid_template_columns": null,
            "flex": null,
            "_model_name": "LayoutModel",
            "justify_items": null,
            "grid_row": null,
            "max_height": null,
            "align_content": null,
            "visibility": null,
            "align_self": null,
            "height": null,
            "min_height": null,
            "padding": null,
            "grid_auto_rows": null,
            "grid_gap": null,
            "max_width": null,
            "order": null,
            "_view_module_version": "1.2.0",
            "grid_template_areas": null,
            "object_position": null,
            "object_fit": null,
            "grid_auto_columns": null,
            "margin": null,
            "display": null,
            "left": null
          }
        },
        "96d53fbe4b034f929a1b896228834ad2": {
          "model_module": "@jupyter-widgets/controls",
          "model_name": "FloatProgressModel",
          "state": {
            "_view_name": "ProgressView",
            "style": "IPY_MODEL_cb9156b15d0e4aee8e77354b2c90c271",
            "_dom_classes": [],
            "description": "Dl Completed...: 100%",
            "_model_name": "FloatProgressModel",
            "bar_style": "success",
            "max": 1,
            "_view_module": "@jupyter-widgets/controls",
            "_model_module_version": "1.5.0",
            "value": 1,
            "_view_count": null,
            "_view_module_version": "1.5.0",
            "orientation": "horizontal",
            "min": 0,
            "description_tooltip": null,
            "_model_module": "@jupyter-widgets/controls",
            "layout": "IPY_MODEL_b0b347523f4245189b89e64256f91342"
          }
        },
        "38f08073fdb44c0f97d8f5f68148bf5f": {
          "model_module": "@jupyter-widgets/controls",
          "model_name": "HTMLModel",
          "state": {
            "_view_name": "HTMLView",
            "style": "IPY_MODEL_2aed6e8bd1c641d994e051645f25b375",
            "_dom_classes": [],
            "description": "",
            "_model_name": "HTMLModel",
            "placeholder": "​",
            "_view_module": "@jupyter-widgets/controls",
            "_model_module_version": "1.5.0",
            "value": " 1/1 [00:01&lt;00:00,  1.46s/ url]",
            "_view_count": null,
            "_view_module_version": "1.5.0",
            "description_tooltip": null,
            "_model_module": "@jupyter-widgets/controls",
            "layout": "IPY_MODEL_1395c22482a34008aa0728541c848bfa"
          }
        },
        "cb9156b15d0e4aee8e77354b2c90c271": {
          "model_module": "@jupyter-widgets/controls",
          "model_name": "ProgressStyleModel",
          "state": {
            "_view_name": "StyleView",
            "_model_name": "ProgressStyleModel",
            "description_width": "initial",
            "_view_module": "@jupyter-widgets/base",
            "_model_module_version": "1.5.0",
            "_view_count": null,
            "_view_module_version": "1.2.0",
            "bar_color": null,
            "_model_module": "@jupyter-widgets/controls"
          }
        },
        "b0b347523f4245189b89e64256f91342": {
          "model_module": "@jupyter-widgets/base",
          "model_name": "LayoutModel",
          "state": {
            "_view_name": "LayoutView",
            "grid_template_rows": null,
            "right": null,
            "justify_content": null,
            "_view_module": "@jupyter-widgets/base",
            "overflow": null,
            "_model_module_version": "1.2.0",
            "_view_count": null,
            "flex_flow": null,
            "width": null,
            "min_width": null,
            "border": null,
            "align_items": null,
            "bottom": null,
            "_model_module": "@jupyter-widgets/base",
            "top": null,
            "grid_column": null,
            "overflow_y": null,
            "overflow_x": null,
            "grid_auto_flow": null,
            "grid_area": null,
            "grid_template_columns": null,
            "flex": null,
            "_model_name": "LayoutModel",
            "justify_items": null,
            "grid_row": null,
            "max_height": null,
            "align_content": null,
            "visibility": null,
            "align_self": null,
            "height": null,
            "min_height": null,
            "padding": null,
            "grid_auto_rows": null,
            "grid_gap": null,
            "max_width": null,
            "order": null,
            "_view_module_version": "1.2.0",
            "grid_template_areas": null,
            "object_position": null,
            "object_fit": null,
            "grid_auto_columns": null,
            "margin": null,
            "display": null,
            "left": null
          }
        },
        "2aed6e8bd1c641d994e051645f25b375": {
          "model_module": "@jupyter-widgets/controls",
          "model_name": "DescriptionStyleModel",
          "state": {
            "_view_name": "StyleView",
            "_model_name": "DescriptionStyleModel",
            "description_width": "",
            "_view_module": "@jupyter-widgets/base",
            "_model_module_version": "1.5.0",
            "_view_count": null,
            "_view_module_version": "1.2.0",
            "_model_module": "@jupyter-widgets/controls"
          }
        },
        "1395c22482a34008aa0728541c848bfa": {
          "model_module": "@jupyter-widgets/base",
          "model_name": "LayoutModel",
          "state": {
            "_view_name": "LayoutView",
            "grid_template_rows": null,
            "right": null,
            "justify_content": null,
            "_view_module": "@jupyter-widgets/base",
            "overflow": null,
            "_model_module_version": "1.2.0",
            "_view_count": null,
            "flex_flow": null,
            "width": null,
            "min_width": null,
            "border": null,
            "align_items": null,
            "bottom": null,
            "_model_module": "@jupyter-widgets/base",
            "top": null,
            "grid_column": null,
            "overflow_y": null,
            "overflow_x": null,
            "grid_auto_flow": null,
            "grid_area": null,
            "grid_template_columns": null,
            "flex": null,
            "_model_name": "LayoutModel",
            "justify_items": null,
            "grid_row": null,
            "max_height": null,
            "align_content": null,
            "visibility": null,
            "align_self": null,
            "height": null,
            "min_height": null,
            "padding": null,
            "grid_auto_rows": null,
            "grid_gap": null,
            "max_width": null,
            "order": null,
            "_view_module_version": "1.2.0",
            "grid_template_areas": null,
            "object_position": null,
            "object_fit": null,
            "grid_auto_columns": null,
            "margin": null,
            "display": null,
            "left": null
          }
        },
        "f8817f9ddef544bbaaa77513a8cb65f3": {
          "model_module": "@jupyter-widgets/controls",
          "model_name": "HBoxModel",
          "state": {
            "_view_name": "HBoxView",
            "_dom_classes": [],
            "_model_name": "HBoxModel",
            "_view_module": "@jupyter-widgets/controls",
            "_model_module_version": "1.5.0",
            "_view_count": null,
            "_view_module_version": "1.5.0",
            "box_style": "",
            "layout": "IPY_MODEL_989c06f72d8747ff83c2668e4b5d0c36",
            "_model_module": "@jupyter-widgets/controls",
            "children": [
              "IPY_MODEL_1f72dce40d734509aa8329a793ed66cf",
              "IPY_MODEL_e801c94b7bf243019c6e658498a166b7"
            ]
          }
        },
        "989c06f72d8747ff83c2668e4b5d0c36": {
          "model_module": "@jupyter-widgets/base",
          "model_name": "LayoutModel",
          "state": {
            "_view_name": "LayoutView",
            "grid_template_rows": null,
            "right": null,
            "justify_content": null,
            "_view_module": "@jupyter-widgets/base",
            "overflow": null,
            "_model_module_version": "1.2.0",
            "_view_count": null,
            "flex_flow": null,
            "width": null,
            "min_width": null,
            "border": null,
            "align_items": null,
            "bottom": null,
            "_model_module": "@jupyter-widgets/base",
            "top": null,
            "grid_column": null,
            "overflow_y": null,
            "overflow_x": null,
            "grid_auto_flow": null,
            "grid_area": null,
            "grid_template_columns": null,
            "flex": null,
            "_model_name": "LayoutModel",
            "justify_items": null,
            "grid_row": null,
            "max_height": null,
            "align_content": null,
            "visibility": null,
            "align_self": null,
            "height": null,
            "min_height": null,
            "padding": null,
            "grid_auto_rows": null,
            "grid_gap": null,
            "max_width": null,
            "order": null,
            "_view_module_version": "1.2.0",
            "grid_template_areas": null,
            "object_position": null,
            "object_fit": null,
            "grid_auto_columns": null,
            "margin": null,
            "display": null,
            "left": null
          }
        },
        "1f72dce40d734509aa8329a793ed66cf": {
          "model_module": "@jupyter-widgets/controls",
          "model_name": "FloatProgressModel",
          "state": {
            "_view_name": "ProgressView",
            "style": "IPY_MODEL_00b65b8e686d47d7a684272b5277f77b",
            "_dom_classes": [],
            "description": "Dl Size...: 100%",
            "_model_name": "FloatProgressModel",
            "bar_style": "success",
            "max": 1,
            "_view_module": "@jupyter-widgets/controls",
            "_model_module_version": "1.5.0",
            "value": 1,
            "_view_count": null,
            "_view_module_version": "1.5.0",
            "orientation": "horizontal",
            "min": 0,
            "description_tooltip": null,
            "_model_module": "@jupyter-widgets/controls",
            "layout": "IPY_MODEL_f27445d2e43a44289927ab59c034a0c8"
          }
        },
        "e801c94b7bf243019c6e658498a166b7": {
          "model_module": "@jupyter-widgets/controls",
          "model_name": "HTMLModel",
          "state": {
            "_view_name": "HTMLView",
            "style": "IPY_MODEL_95d59e9a97ac4982a4a3e2eb56270480",
            "_dom_classes": [],
            "description": "",
            "_model_name": "HTMLModel",
            "placeholder": "​",
            "_view_module": "@jupyter-widgets/controls",
            "_model_module_version": "1.5.0",
            "value": " 7/7 [00:01&lt;00:00,  4.90 MiB/s]",
            "_view_count": null,
            "_view_module_version": "1.5.0",
            "description_tooltip": null,
            "_model_module": "@jupyter-widgets/controls",
            "layout": "IPY_MODEL_56b51df9f7404d1b9d21f2dbf7fdd9e1"
          }
        },
        "00b65b8e686d47d7a684272b5277f77b": {
          "model_module": "@jupyter-widgets/controls",
          "model_name": "ProgressStyleModel",
          "state": {
            "_view_name": "StyleView",
            "_model_name": "ProgressStyleModel",
            "description_width": "initial",
            "_view_module": "@jupyter-widgets/base",
            "_model_module_version": "1.5.0",
            "_view_count": null,
            "_view_module_version": "1.2.0",
            "bar_color": null,
            "_model_module": "@jupyter-widgets/controls"
          }
        },
        "f27445d2e43a44289927ab59c034a0c8": {
          "model_module": "@jupyter-widgets/base",
          "model_name": "LayoutModel",
          "state": {
            "_view_name": "LayoutView",
            "grid_template_rows": null,
            "right": null,
            "justify_content": null,
            "_view_module": "@jupyter-widgets/base",
            "overflow": null,
            "_model_module_version": "1.2.0",
            "_view_count": null,
            "flex_flow": null,
            "width": null,
            "min_width": null,
            "border": null,
            "align_items": null,
            "bottom": null,
            "_model_module": "@jupyter-widgets/base",
            "top": null,
            "grid_column": null,
            "overflow_y": null,
            "overflow_x": null,
            "grid_auto_flow": null,
            "grid_area": null,
            "grid_template_columns": null,
            "flex": null,
            "_model_name": "LayoutModel",
            "justify_items": null,
            "grid_row": null,
            "max_height": null,
            "align_content": null,
            "visibility": null,
            "align_self": null,
            "height": null,
            "min_height": null,
            "padding": null,
            "grid_auto_rows": null,
            "grid_gap": null,
            "max_width": null,
            "order": null,
            "_view_module_version": "1.2.0",
            "grid_template_areas": null,
            "object_position": null,
            "object_fit": null,
            "grid_auto_columns": null,
            "margin": null,
            "display": null,
            "left": null
          }
        },
        "95d59e9a97ac4982a4a3e2eb56270480": {
          "model_module": "@jupyter-widgets/controls",
          "model_name": "DescriptionStyleModel",
          "state": {
            "_view_name": "StyleView",
            "_model_name": "DescriptionStyleModel",
            "description_width": "",
            "_view_module": "@jupyter-widgets/base",
            "_model_module_version": "1.5.0",
            "_view_count": null,
            "_view_module_version": "1.2.0",
            "_model_module": "@jupyter-widgets/controls"
          }
        },
        "56b51df9f7404d1b9d21f2dbf7fdd9e1": {
          "model_module": "@jupyter-widgets/base",
          "model_name": "LayoutModel",
          "state": {
            "_view_name": "LayoutView",
            "grid_template_rows": null,
            "right": null,
            "justify_content": null,
            "_view_module": "@jupyter-widgets/base",
            "overflow": null,
            "_model_module_version": "1.2.0",
            "_view_count": null,
            "flex_flow": null,
            "width": null,
            "min_width": null,
            "border": null,
            "align_items": null,
            "bottom": null,
            "_model_module": "@jupyter-widgets/base",
            "top": null,
            "grid_column": null,
            "overflow_y": null,
            "overflow_x": null,
            "grid_auto_flow": null,
            "grid_area": null,
            "grid_template_columns": null,
            "flex": null,
            "_model_name": "LayoutModel",
            "justify_items": null,
            "grid_row": null,
            "max_height": null,
            "align_content": null,
            "visibility": null,
            "align_self": null,
            "height": null,
            "min_height": null,
            "padding": null,
            "grid_auto_rows": null,
            "grid_gap": null,
            "max_width": null,
            "order": null,
            "_view_module_version": "1.2.0",
            "grid_template_areas": null,
            "object_position": null,
            "object_fit": null,
            "grid_auto_columns": null,
            "margin": null,
            "display": null,
            "left": null
          }
        },
        "02e1906701e447b491430269a12f773b": {
          "model_module": "@jupyter-widgets/controls",
          "model_name": "HBoxModel",
          "state": {
            "_view_name": "HBoxView",
            "_dom_classes": [],
            "_model_name": "HBoxModel",
            "_view_module": "@jupyter-widgets/controls",
            "_model_module_version": "1.5.0",
            "_view_count": null,
            "_view_module_version": "1.5.0",
            "box_style": "",
            "layout": "IPY_MODEL_92fdaf8dd4294ebda70d8aad16556c6d",
            "_model_module": "@jupyter-widgets/controls",
            "children": [
              "IPY_MODEL_27a45dff252041f7b858665eb2ba09be",
              "IPY_MODEL_7b563354f7154f56b1fea2079ef6c2ea"
            ]
          }
        },
        "92fdaf8dd4294ebda70d8aad16556c6d": {
          "model_module": "@jupyter-widgets/base",
          "model_name": "LayoutModel",
          "state": {
            "_view_name": "LayoutView",
            "grid_template_rows": null,
            "right": null,
            "justify_content": null,
            "_view_module": "@jupyter-widgets/base",
            "overflow": null,
            "_model_module_version": "1.2.0",
            "_view_count": null,
            "flex_flow": null,
            "width": null,
            "min_width": null,
            "border": null,
            "align_items": null,
            "bottom": null,
            "_model_module": "@jupyter-widgets/base",
            "top": null,
            "grid_column": null,
            "overflow_y": null,
            "overflow_x": null,
            "grid_auto_flow": null,
            "grid_area": null,
            "grid_template_columns": null,
            "flex": null,
            "_model_name": "LayoutModel",
            "justify_items": null,
            "grid_row": null,
            "max_height": null,
            "align_content": null,
            "visibility": null,
            "align_self": null,
            "height": null,
            "min_height": null,
            "padding": null,
            "grid_auto_rows": null,
            "grid_gap": null,
            "max_width": null,
            "order": null,
            "_view_module_version": "1.2.0",
            "grid_template_areas": null,
            "object_position": null,
            "object_fit": null,
            "grid_auto_columns": null,
            "margin": null,
            "display": null,
            "left": null
          }
        },
        "27a45dff252041f7b858665eb2ba09be": {
          "model_module": "@jupyter-widgets/controls",
          "model_name": "FloatProgressModel",
          "state": {
            "_view_name": "ProgressView",
            "style": "IPY_MODEL_2396c88ce2da428498c1741457b5a7ce",
            "_dom_classes": [],
            "description": "Extraction completed...: 100%",
            "_model_name": "FloatProgressModel",
            "bar_style": "success",
            "max": 1,
            "_view_module": "@jupyter-widgets/controls",
            "_model_module_version": "1.5.0",
            "value": 1,
            "_view_count": null,
            "_view_module_version": "1.5.0",
            "orientation": "horizontal",
            "min": 0,
            "description_tooltip": null,
            "_model_module": "@jupyter-widgets/controls",
            "layout": "IPY_MODEL_03b5d60ef8064e6cad95210379c574da"
          }
        },
        "7b563354f7154f56b1fea2079ef6c2ea": {
          "model_module": "@jupyter-widgets/controls",
          "model_name": "HTMLModel",
          "state": {
            "_view_name": "HTMLView",
            "style": "IPY_MODEL_916877fe787f4fe2b4a03f7ebf1a3c18",
            "_dom_classes": [],
            "description": "",
            "_model_name": "HTMLModel",
            "placeholder": "​",
            "_view_module": "@jupyter-widgets/controls",
            "_model_module_version": "1.5.0",
            "value": " 1/1 [00:01&lt;00:00,  1.38s/ file]",
            "_view_count": null,
            "_view_module_version": "1.5.0",
            "description_tooltip": null,
            "_model_module": "@jupyter-widgets/controls",
            "layout": "IPY_MODEL_897333a363514947a9ee16ffc02e88ba"
          }
        },
        "2396c88ce2da428498c1741457b5a7ce": {
          "model_module": "@jupyter-widgets/controls",
          "model_name": "ProgressStyleModel",
          "state": {
            "_view_name": "StyleView",
            "_model_name": "ProgressStyleModel",
            "description_width": "initial",
            "_view_module": "@jupyter-widgets/base",
            "_model_module_version": "1.5.0",
            "_view_count": null,
            "_view_module_version": "1.2.0",
            "bar_color": null,
            "_model_module": "@jupyter-widgets/controls"
          }
        },
        "03b5d60ef8064e6cad95210379c574da": {
          "model_module": "@jupyter-widgets/base",
          "model_name": "LayoutModel",
          "state": {
            "_view_name": "LayoutView",
            "grid_template_rows": null,
            "right": null,
            "justify_content": null,
            "_view_module": "@jupyter-widgets/base",
            "overflow": null,
            "_model_module_version": "1.2.0",
            "_view_count": null,
            "flex_flow": null,
            "width": null,
            "min_width": null,
            "border": null,
            "align_items": null,
            "bottom": null,
            "_model_module": "@jupyter-widgets/base",
            "top": null,
            "grid_column": null,
            "overflow_y": null,
            "overflow_x": null,
            "grid_auto_flow": null,
            "grid_area": null,
            "grid_template_columns": null,
            "flex": null,
            "_model_name": "LayoutModel",
            "justify_items": null,
            "grid_row": null,
            "max_height": null,
            "align_content": null,
            "visibility": null,
            "align_self": null,
            "height": null,
            "min_height": null,
            "padding": null,
            "grid_auto_rows": null,
            "grid_gap": null,
            "max_width": null,
            "order": null,
            "_view_module_version": "1.2.0",
            "grid_template_areas": null,
            "object_position": null,
            "object_fit": null,
            "grid_auto_columns": null,
            "margin": null,
            "display": null,
            "left": null
          }
        },
        "916877fe787f4fe2b4a03f7ebf1a3c18": {
          "model_module": "@jupyter-widgets/controls",
          "model_name": "DescriptionStyleModel",
          "state": {
            "_view_name": "StyleView",
            "_model_name": "DescriptionStyleModel",
            "description_width": "",
            "_view_module": "@jupyter-widgets/base",
            "_model_module_version": "1.5.0",
            "_view_count": null,
            "_view_module_version": "1.2.0",
            "_model_module": "@jupyter-widgets/controls"
          }
        },
        "897333a363514947a9ee16ffc02e88ba": {
          "model_module": "@jupyter-widgets/base",
          "model_name": "LayoutModel",
          "state": {
            "_view_name": "LayoutView",
            "grid_template_rows": null,
            "right": null,
            "justify_content": null,
            "_view_module": "@jupyter-widgets/base",
            "overflow": null,
            "_model_module_version": "1.2.0",
            "_view_count": null,
            "flex_flow": null,
            "width": null,
            "min_width": null,
            "border": null,
            "align_items": null,
            "bottom": null,
            "_model_module": "@jupyter-widgets/base",
            "top": null,
            "grid_column": null,
            "overflow_y": null,
            "overflow_x": null,
            "grid_auto_flow": null,
            "grid_area": null,
            "grid_template_columns": null,
            "flex": null,
            "_model_name": "LayoutModel",
            "justify_items": null,
            "grid_row": null,
            "max_height": null,
            "align_content": null,
            "visibility": null,
            "align_self": null,
            "height": null,
            "min_height": null,
            "padding": null,
            "grid_auto_rows": null,
            "grid_gap": null,
            "max_width": null,
            "order": null,
            "_view_module_version": "1.2.0",
            "grid_template_areas": null,
            "object_position": null,
            "object_fit": null,
            "grid_auto_columns": null,
            "margin": null,
            "display": null,
            "left": null
          }
        },
        "534fbe95e48c4175bb65215a11510d4a": {
          "model_module": "@jupyter-widgets/controls",
          "model_name": "HBoxModel",
          "state": {
            "_view_name": "HBoxView",
            "_dom_classes": [],
            "_model_name": "HBoxModel",
            "_view_module": "@jupyter-widgets/controls",
            "_model_module_version": "1.5.0",
            "_view_count": null,
            "_view_module_version": "1.5.0",
            "box_style": "",
            "layout": "IPY_MODEL_d3dfc2a5472c423fb64b71f568c6594e",
            "_model_module": "@jupyter-widgets/controls",
            "children": [
              "IPY_MODEL_16d05b1d08a646cb9654e3a5e82119ad",
              "IPY_MODEL_4c28e3c33f344a10ae62121fa8f5aba0"
            ]
          }
        },
        "d3dfc2a5472c423fb64b71f568c6594e": {
          "model_module": "@jupyter-widgets/base",
          "model_name": "LayoutModel",
          "state": {
            "_view_name": "LayoutView",
            "grid_template_rows": null,
            "right": null,
            "justify_content": null,
            "_view_module": "@jupyter-widgets/base",
            "overflow": null,
            "_model_module_version": "1.2.0",
            "_view_count": null,
            "flex_flow": null,
            "width": null,
            "min_width": null,
            "border": null,
            "align_items": null,
            "bottom": null,
            "_model_module": "@jupyter-widgets/base",
            "top": null,
            "grid_column": null,
            "overflow_y": null,
            "overflow_x": null,
            "grid_auto_flow": null,
            "grid_area": null,
            "grid_template_columns": null,
            "flex": null,
            "_model_name": "LayoutModel",
            "justify_items": null,
            "grid_row": null,
            "max_height": null,
            "align_content": null,
            "visibility": null,
            "align_self": null,
            "height": null,
            "min_height": null,
            "padding": null,
            "grid_auto_rows": null,
            "grid_gap": null,
            "max_width": null,
            "order": null,
            "_view_module_version": "1.2.0",
            "grid_template_areas": null,
            "object_position": null,
            "object_fit": null,
            "grid_auto_columns": null,
            "margin": null,
            "display": null,
            "left": null
          }
        },
        "16d05b1d08a646cb9654e3a5e82119ad": {
          "model_module": "@jupyter-widgets/controls",
          "model_name": "FloatProgressModel",
          "state": {
            "_view_name": "ProgressView",
            "style": "IPY_MODEL_deff1ff9eaaf4274bbf7c6bf0a914241",
            "_dom_classes": [],
            "description": "",
            "_model_name": "FloatProgressModel",
            "bar_style": "info",
            "max": 1,
            "_view_module": "@jupyter-widgets/controls",
            "_model_module_version": "1.5.0",
            "value": 1,
            "_view_count": null,
            "_view_module_version": "1.5.0",
            "orientation": "horizontal",
            "min": 0,
            "description_tooltip": null,
            "_model_module": "@jupyter-widgets/controls",
            "layout": "IPY_MODEL_1d3f35c241574693a2df90cdb4ffa56c"
          }
        },
        "4c28e3c33f344a10ae62121fa8f5aba0": {
          "model_module": "@jupyter-widgets/controls",
          "model_name": "HTMLModel",
          "state": {
            "_view_name": "HTMLView",
            "style": "IPY_MODEL_d7bb0c1a660b4981aa628d55cf9a2f22",
            "_dom_classes": [],
            "description": "",
            "_model_name": "HTMLModel",
            "placeholder": "​",
            "_view_module": "@jupyter-widgets/controls",
            "_model_module_version": "1.5.0",
            "value": " 67349/0 [00:30&lt;00:00, 2233.68 examples/s]",
            "_view_count": null,
            "_view_module_version": "1.5.0",
            "description_tooltip": null,
            "_model_module": "@jupyter-widgets/controls",
            "layout": "IPY_MODEL_d7fefe5b241f4ec5ae4486a3cf3c8eb6"
          }
        },
        "deff1ff9eaaf4274bbf7c6bf0a914241": {
          "model_module": "@jupyter-widgets/controls",
          "model_name": "ProgressStyleModel",
          "state": {
            "_view_name": "StyleView",
            "_model_name": "ProgressStyleModel",
            "description_width": "initial",
            "_view_module": "@jupyter-widgets/base",
            "_model_module_version": "1.5.0",
            "_view_count": null,
            "_view_module_version": "1.2.0",
            "bar_color": null,
            "_model_module": "@jupyter-widgets/controls"
          }
        },
        "1d3f35c241574693a2df90cdb4ffa56c": {
          "model_module": "@jupyter-widgets/base",
          "model_name": "LayoutModel",
          "state": {
            "_view_name": "LayoutView",
            "grid_template_rows": null,
            "right": null,
            "justify_content": null,
            "_view_module": "@jupyter-widgets/base",
            "overflow": null,
            "_model_module_version": "1.2.0",
            "_view_count": null,
            "flex_flow": null,
            "width": null,
            "min_width": null,
            "border": null,
            "align_items": null,
            "bottom": null,
            "_model_module": "@jupyter-widgets/base",
            "top": null,
            "grid_column": null,
            "overflow_y": null,
            "overflow_x": null,
            "grid_auto_flow": null,
            "grid_area": null,
            "grid_template_columns": null,
            "flex": null,
            "_model_name": "LayoutModel",
            "justify_items": null,
            "grid_row": null,
            "max_height": null,
            "align_content": null,
            "visibility": null,
            "align_self": null,
            "height": null,
            "min_height": null,
            "padding": null,
            "grid_auto_rows": null,
            "grid_gap": null,
            "max_width": null,
            "order": null,
            "_view_module_version": "1.2.0",
            "grid_template_areas": null,
            "object_position": null,
            "object_fit": null,
            "grid_auto_columns": null,
            "margin": null,
            "display": null,
            "left": null
          }
        },
        "d7bb0c1a660b4981aa628d55cf9a2f22": {
          "model_module": "@jupyter-widgets/controls",
          "model_name": "DescriptionStyleModel",
          "state": {
            "_view_name": "StyleView",
            "_model_name": "DescriptionStyleModel",
            "description_width": "",
            "_view_module": "@jupyter-widgets/base",
            "_model_module_version": "1.5.0",
            "_view_count": null,
            "_view_module_version": "1.2.0",
            "_model_module": "@jupyter-widgets/controls"
          }
        },
        "d7fefe5b241f4ec5ae4486a3cf3c8eb6": {
          "model_module": "@jupyter-widgets/base",
          "model_name": "LayoutModel",
          "state": {
            "_view_name": "LayoutView",
            "grid_template_rows": null,
            "right": null,
            "justify_content": null,
            "_view_module": "@jupyter-widgets/base",
            "overflow": null,
            "_model_module_version": "1.2.0",
            "_view_count": null,
            "flex_flow": null,
            "width": null,
            "min_width": null,
            "border": null,
            "align_items": null,
            "bottom": null,
            "_model_module": "@jupyter-widgets/base",
            "top": null,
            "grid_column": null,
            "overflow_y": null,
            "overflow_x": null,
            "grid_auto_flow": null,
            "grid_area": null,
            "grid_template_columns": null,
            "flex": null,
            "_model_name": "LayoutModel",
            "justify_items": null,
            "grid_row": null,
            "max_height": null,
            "align_content": null,
            "visibility": null,
            "align_self": null,
            "height": null,
            "min_height": null,
            "padding": null,
            "grid_auto_rows": null,
            "grid_gap": null,
            "max_width": null,
            "order": null,
            "_view_module_version": "1.2.0",
            "grid_template_areas": null,
            "object_position": null,
            "object_fit": null,
            "grid_auto_columns": null,
            "margin": null,
            "display": null,
            "left": null
          }
        },
        "cdfcf59ddfcd4611bed660b5dae73031": {
          "model_module": "@jupyter-widgets/controls",
          "model_name": "HBoxModel",
          "state": {
            "_view_name": "HBoxView",
            "_dom_classes": [],
            "_model_name": "HBoxModel",
            "_view_module": "@jupyter-widgets/controls",
            "_model_module_version": "1.5.0",
            "_view_count": null,
            "_view_module_version": "1.5.0",
            "box_style": "",
            "layout": "IPY_MODEL_706364feb5ab49b7b61244fe92e13952",
            "_model_module": "@jupyter-widgets/controls",
            "children": [
              "IPY_MODEL_b3f3c02fbdb441b2a49ecdf373314685",
              "IPY_MODEL_6da803fde49c4e54b27f8d3b3d193122"
            ]
          }
        },
        "706364feb5ab49b7b61244fe92e13952": {
          "model_module": "@jupyter-widgets/base",
          "model_name": "LayoutModel",
          "state": {
            "_view_name": "LayoutView",
            "grid_template_rows": null,
            "right": null,
            "justify_content": null,
            "_view_module": "@jupyter-widgets/base",
            "overflow": null,
            "_model_module_version": "1.2.0",
            "_view_count": null,
            "flex_flow": null,
            "width": null,
            "min_width": null,
            "border": null,
            "align_items": null,
            "bottom": null,
            "_model_module": "@jupyter-widgets/base",
            "top": null,
            "grid_column": null,
            "overflow_y": null,
            "overflow_x": null,
            "grid_auto_flow": null,
            "grid_area": null,
            "grid_template_columns": null,
            "flex": null,
            "_model_name": "LayoutModel",
            "justify_items": null,
            "grid_row": null,
            "max_height": null,
            "align_content": null,
            "visibility": null,
            "align_self": null,
            "height": null,
            "min_height": null,
            "padding": null,
            "grid_auto_rows": null,
            "grid_gap": null,
            "max_width": null,
            "order": null,
            "_view_module_version": "1.2.0",
            "grid_template_areas": null,
            "object_position": null,
            "object_fit": null,
            "grid_auto_columns": null,
            "margin": null,
            "display": null,
            "left": null
          }
        },
        "b3f3c02fbdb441b2a49ecdf373314685": {
          "model_module": "@jupyter-widgets/controls",
          "model_name": "FloatProgressModel",
          "state": {
            "_view_name": "ProgressView",
            "style": "IPY_MODEL_becad73a4df24eda90b3eced15f27d48",
            "_dom_classes": [],
            "description": " 74%",
            "_model_name": "FloatProgressModel",
            "bar_style": "danger",
            "max": 67349,
            "_view_module": "@jupyter-widgets/controls",
            "_model_module_version": "1.5.0",
            "value": 49567,
            "_view_count": null,
            "_view_module_version": "1.5.0",
            "orientation": "horizontal",
            "min": 0,
            "description_tooltip": null,
            "_model_module": "@jupyter-widgets/controls",
            "layout": "IPY_MODEL_4db9c6f62bd2417a91e6821c91528d45"
          }
        },
        "6da803fde49c4e54b27f8d3b3d193122": {
          "model_module": "@jupyter-widgets/controls",
          "model_name": "HTMLModel",
          "state": {
            "_view_name": "HTMLView",
            "style": "IPY_MODEL_daf3e3709494489dbdcbebf2c8154693",
            "_dom_classes": [],
            "description": "",
            "_model_name": "HTMLModel",
            "placeholder": "​",
            "_view_module": "@jupyter-widgets/controls",
            "_model_module_version": "1.5.0",
            "value": " 49567/67349 [00:00&lt;20:43, 14.30 examples/s]",
            "_view_count": null,
            "_view_module_version": "1.5.0",
            "description_tooltip": null,
            "_model_module": "@jupyter-widgets/controls",
            "layout": "IPY_MODEL_2aa947219de74a8d973cdfcabb5f36da"
          }
        },
        "becad73a4df24eda90b3eced15f27d48": {
          "model_module": "@jupyter-widgets/controls",
          "model_name": "ProgressStyleModel",
          "state": {
            "_view_name": "StyleView",
            "_model_name": "ProgressStyleModel",
            "description_width": "initial",
            "_view_module": "@jupyter-widgets/base",
            "_model_module_version": "1.5.0",
            "_view_count": null,
            "_view_module_version": "1.2.0",
            "bar_color": null,
            "_model_module": "@jupyter-widgets/controls"
          }
        },
        "4db9c6f62bd2417a91e6821c91528d45": {
          "model_module": "@jupyter-widgets/base",
          "model_name": "LayoutModel",
          "state": {
            "_view_name": "LayoutView",
            "grid_template_rows": null,
            "right": null,
            "justify_content": null,
            "_view_module": "@jupyter-widgets/base",
            "overflow": null,
            "_model_module_version": "1.2.0",
            "_view_count": null,
            "flex_flow": null,
            "width": null,
            "min_width": null,
            "border": null,
            "align_items": null,
            "bottom": null,
            "_model_module": "@jupyter-widgets/base",
            "top": null,
            "grid_column": null,
            "overflow_y": null,
            "overflow_x": null,
            "grid_auto_flow": null,
            "grid_area": null,
            "grid_template_columns": null,
            "flex": null,
            "_model_name": "LayoutModel",
            "justify_items": null,
            "grid_row": null,
            "max_height": null,
            "align_content": null,
            "visibility": null,
            "align_self": null,
            "height": null,
            "min_height": null,
            "padding": null,
            "grid_auto_rows": null,
            "grid_gap": null,
            "max_width": null,
            "order": null,
            "_view_module_version": "1.2.0",
            "grid_template_areas": null,
            "object_position": null,
            "object_fit": null,
            "grid_auto_columns": null,
            "margin": null,
            "display": null,
            "left": null
          }
        },
        "daf3e3709494489dbdcbebf2c8154693": {
          "model_module": "@jupyter-widgets/controls",
          "model_name": "DescriptionStyleModel",
          "state": {
            "_view_name": "StyleView",
            "_model_name": "DescriptionStyleModel",
            "description_width": "",
            "_view_module": "@jupyter-widgets/base",
            "_model_module_version": "1.5.0",
            "_view_count": null,
            "_view_module_version": "1.2.0",
            "_model_module": "@jupyter-widgets/controls"
          }
        },
        "2aa947219de74a8d973cdfcabb5f36da": {
          "model_module": "@jupyter-widgets/base",
          "model_name": "LayoutModel",
          "state": {
            "_view_name": "LayoutView",
            "grid_template_rows": null,
            "right": null,
            "justify_content": null,
            "_view_module": "@jupyter-widgets/base",
            "overflow": null,
            "_model_module_version": "1.2.0",
            "_view_count": null,
            "flex_flow": null,
            "width": null,
            "min_width": null,
            "border": null,
            "align_items": null,
            "bottom": null,
            "_model_module": "@jupyter-widgets/base",
            "top": null,
            "grid_column": null,
            "overflow_y": null,
            "overflow_x": null,
            "grid_auto_flow": null,
            "grid_area": null,
            "grid_template_columns": null,
            "flex": null,
            "_model_name": "LayoutModel",
            "justify_items": null,
            "grid_row": null,
            "max_height": null,
            "align_content": null,
            "visibility": null,
            "align_self": null,
            "height": null,
            "min_height": null,
            "padding": null,
            "grid_auto_rows": null,
            "grid_gap": null,
            "max_width": null,
            "order": null,
            "_view_module_version": "1.2.0",
            "grid_template_areas": null,
            "object_position": null,
            "object_fit": null,
            "grid_auto_columns": null,
            "margin": null,
            "display": null,
            "left": null
          }
        },
        "65d4216caf794866a7e5ad960b1c087d": {
          "model_module": "@jupyter-widgets/controls",
          "model_name": "HBoxModel",
          "state": {
            "_view_name": "HBoxView",
            "_dom_classes": [],
            "_model_name": "HBoxModel",
            "_view_module": "@jupyter-widgets/controls",
            "_model_module_version": "1.5.0",
            "_view_count": null,
            "_view_module_version": "1.5.0",
            "box_style": "",
            "layout": "IPY_MODEL_06378c691bc54048ad5e75acf5db24b1",
            "_model_module": "@jupyter-widgets/controls",
            "children": [
              "IPY_MODEL_87be252e0b0a4311b08be30b5c9cdbbe",
              "IPY_MODEL_7654097324304eb3a9bbfbc567db1f70"
            ]
          }
        },
        "06378c691bc54048ad5e75acf5db24b1": {
          "model_module": "@jupyter-widgets/base",
          "model_name": "LayoutModel",
          "state": {
            "_view_name": "LayoutView",
            "grid_template_rows": null,
            "right": null,
            "justify_content": null,
            "_view_module": "@jupyter-widgets/base",
            "overflow": null,
            "_model_module_version": "1.2.0",
            "_view_count": null,
            "flex_flow": null,
            "width": null,
            "min_width": null,
            "border": null,
            "align_items": null,
            "bottom": null,
            "_model_module": "@jupyter-widgets/base",
            "top": null,
            "grid_column": null,
            "overflow_y": null,
            "overflow_x": null,
            "grid_auto_flow": null,
            "grid_area": null,
            "grid_template_columns": null,
            "flex": null,
            "_model_name": "LayoutModel",
            "justify_items": null,
            "grid_row": null,
            "max_height": null,
            "align_content": null,
            "visibility": null,
            "align_self": null,
            "height": null,
            "min_height": null,
            "padding": null,
            "grid_auto_rows": null,
            "grid_gap": null,
            "max_width": null,
            "order": null,
            "_view_module_version": "1.2.0",
            "grid_template_areas": null,
            "object_position": null,
            "object_fit": null,
            "grid_auto_columns": null,
            "margin": null,
            "display": null,
            "left": null
          }
        },
        "87be252e0b0a4311b08be30b5c9cdbbe": {
          "model_module": "@jupyter-widgets/controls",
          "model_name": "FloatProgressModel",
          "state": {
            "_view_name": "ProgressView",
            "style": "IPY_MODEL_11998034faa545fdaf1d45d879fc415e",
            "_dom_classes": [],
            "description": "",
            "_model_name": "FloatProgressModel",
            "bar_style": "info",
            "max": 1,
            "_view_module": "@jupyter-widgets/controls",
            "_model_module_version": "1.5.0",
            "value": 1,
            "_view_count": null,
            "_view_module_version": "1.5.0",
            "orientation": "horizontal",
            "min": 0,
            "description_tooltip": null,
            "_model_module": "@jupyter-widgets/controls",
            "layout": "IPY_MODEL_ce444ecd5a524cba96d0ea37d4b5667e"
          }
        },
        "7654097324304eb3a9bbfbc567db1f70": {
          "model_module": "@jupyter-widgets/controls",
          "model_name": "HTMLModel",
          "state": {
            "_view_name": "HTMLView",
            "style": "IPY_MODEL_35f2f77b973d4ee499f29778c5a482a2",
            "_dom_classes": [],
            "description": "",
            "_model_name": "HTMLModel",
            "placeholder": "​",
            "_view_module": "@jupyter-widgets/controls",
            "_model_module_version": "1.5.0",
            "value": " 872/0 [00:00&lt;00:00, 1839.97 examples/s]",
            "_view_count": null,
            "_view_module_version": "1.5.0",
            "description_tooltip": null,
            "_model_module": "@jupyter-widgets/controls",
            "layout": "IPY_MODEL_79371a46180348febad72b4dbd073e22"
          }
        },
        "11998034faa545fdaf1d45d879fc415e": {
          "model_module": "@jupyter-widgets/controls",
          "model_name": "ProgressStyleModel",
          "state": {
            "_view_name": "StyleView",
            "_model_name": "ProgressStyleModel",
            "description_width": "initial",
            "_view_module": "@jupyter-widgets/base",
            "_model_module_version": "1.5.0",
            "_view_count": null,
            "_view_module_version": "1.2.0",
            "bar_color": null,
            "_model_module": "@jupyter-widgets/controls"
          }
        },
        "ce444ecd5a524cba96d0ea37d4b5667e": {
          "model_module": "@jupyter-widgets/base",
          "model_name": "LayoutModel",
          "state": {
            "_view_name": "LayoutView",
            "grid_template_rows": null,
            "right": null,
            "justify_content": null,
            "_view_module": "@jupyter-widgets/base",
            "overflow": null,
            "_model_module_version": "1.2.0",
            "_view_count": null,
            "flex_flow": null,
            "width": null,
            "min_width": null,
            "border": null,
            "align_items": null,
            "bottom": null,
            "_model_module": "@jupyter-widgets/base",
            "top": null,
            "grid_column": null,
            "overflow_y": null,
            "overflow_x": null,
            "grid_auto_flow": null,
            "grid_area": null,
            "grid_template_columns": null,
            "flex": null,
            "_model_name": "LayoutModel",
            "justify_items": null,
            "grid_row": null,
            "max_height": null,
            "align_content": null,
            "visibility": null,
            "align_self": null,
            "height": null,
            "min_height": null,
            "padding": null,
            "grid_auto_rows": null,
            "grid_gap": null,
            "max_width": null,
            "order": null,
            "_view_module_version": "1.2.0",
            "grid_template_areas": null,
            "object_position": null,
            "object_fit": null,
            "grid_auto_columns": null,
            "margin": null,
            "display": null,
            "left": null
          }
        },
        "35f2f77b973d4ee499f29778c5a482a2": {
          "model_module": "@jupyter-widgets/controls",
          "model_name": "DescriptionStyleModel",
          "state": {
            "_view_name": "StyleView",
            "_model_name": "DescriptionStyleModel",
            "description_width": "",
            "_view_module": "@jupyter-widgets/base",
            "_model_module_version": "1.5.0",
            "_view_count": null,
            "_view_module_version": "1.2.0",
            "_model_module": "@jupyter-widgets/controls"
          }
        },
        "79371a46180348febad72b4dbd073e22": {
          "model_module": "@jupyter-widgets/base",
          "model_name": "LayoutModel",
          "state": {
            "_view_name": "LayoutView",
            "grid_template_rows": null,
            "right": null,
            "justify_content": null,
            "_view_module": "@jupyter-widgets/base",
            "overflow": null,
            "_model_module_version": "1.2.0",
            "_view_count": null,
            "flex_flow": null,
            "width": null,
            "min_width": null,
            "border": null,
            "align_items": null,
            "bottom": null,
            "_model_module": "@jupyter-widgets/base",
            "top": null,
            "grid_column": null,
            "overflow_y": null,
            "overflow_x": null,
            "grid_auto_flow": null,
            "grid_area": null,
            "grid_template_columns": null,
            "flex": null,
            "_model_name": "LayoutModel",
            "justify_items": null,
            "grid_row": null,
            "max_height": null,
            "align_content": null,
            "visibility": null,
            "align_self": null,
            "height": null,
            "min_height": null,
            "padding": null,
            "grid_auto_rows": null,
            "grid_gap": null,
            "max_width": null,
            "order": null,
            "_view_module_version": "1.2.0",
            "grid_template_areas": null,
            "object_position": null,
            "object_fit": null,
            "grid_auto_columns": null,
            "margin": null,
            "display": null,
            "left": null
          }
        },
        "49a440df7966498fad26785f2c221828": {
          "model_module": "@jupyter-widgets/controls",
          "model_name": "HBoxModel",
          "state": {
            "_view_name": "HBoxView",
            "_dom_classes": [],
            "_model_name": "HBoxModel",
            "_view_module": "@jupyter-widgets/controls",
            "_model_module_version": "1.5.0",
            "_view_count": null,
            "_view_module_version": "1.5.0",
            "box_style": "",
            "layout": "IPY_MODEL_88a5bb048c1744cfa0c56a73ec159e86",
            "_model_module": "@jupyter-widgets/controls",
            "children": [
              "IPY_MODEL_a682907a09f64e638c59a216389d10db",
              "IPY_MODEL_b4cb2e996b8a46fabe1496126fbe3031"
            ]
          }
        },
        "88a5bb048c1744cfa0c56a73ec159e86": {
          "model_module": "@jupyter-widgets/base",
          "model_name": "LayoutModel",
          "state": {
            "_view_name": "LayoutView",
            "grid_template_rows": null,
            "right": null,
            "justify_content": null,
            "_view_module": "@jupyter-widgets/base",
            "overflow": null,
            "_model_module_version": "1.2.0",
            "_view_count": null,
            "flex_flow": null,
            "width": null,
            "min_width": null,
            "border": null,
            "align_items": null,
            "bottom": null,
            "_model_module": "@jupyter-widgets/base",
            "top": null,
            "grid_column": null,
            "overflow_y": null,
            "overflow_x": null,
            "grid_auto_flow": null,
            "grid_area": null,
            "grid_template_columns": null,
            "flex": null,
            "_model_name": "LayoutModel",
            "justify_items": null,
            "grid_row": null,
            "max_height": null,
            "align_content": null,
            "visibility": null,
            "align_self": null,
            "height": null,
            "min_height": null,
            "padding": null,
            "grid_auto_rows": null,
            "grid_gap": null,
            "max_width": null,
            "order": null,
            "_view_module_version": "1.2.0",
            "grid_template_areas": null,
            "object_position": null,
            "object_fit": null,
            "grid_auto_columns": null,
            "margin": null,
            "display": null,
            "left": null
          }
        },
        "a682907a09f64e638c59a216389d10db": {
          "model_module": "@jupyter-widgets/controls",
          "model_name": "FloatProgressModel",
          "state": {
            "_view_name": "ProgressView",
            "style": "IPY_MODEL_d6a5159b66f741efbb0310ef92ad7f24",
            "_dom_classes": [],
            "description": "  0%",
            "_model_name": "FloatProgressModel",
            "bar_style": "danger",
            "max": 872,
            "_view_module": "@jupyter-widgets/controls",
            "_model_module_version": "1.5.0",
            "value": 0,
            "_view_count": null,
            "_view_module_version": "1.5.0",
            "orientation": "horizontal",
            "min": 0,
            "description_tooltip": null,
            "_model_module": "@jupyter-widgets/controls",
            "layout": "IPY_MODEL_56b5c4ca473d43b98faf4104d48a5d65"
          }
        },
        "b4cb2e996b8a46fabe1496126fbe3031": {
          "model_module": "@jupyter-widgets/controls",
          "model_name": "HTMLModel",
          "state": {
            "_view_name": "HTMLView",
            "style": "IPY_MODEL_fddc138697054a9983534bc75d3a80b4",
            "_dom_classes": [],
            "description": "",
            "_model_name": "HTMLModel",
            "placeholder": "​",
            "_view_module": "@jupyter-widgets/controls",
            "_model_module_version": "1.5.0",
            "value": " 0/872 [00:08&lt;?, ? examples/s]",
            "_view_count": null,
            "_view_module_version": "1.5.0",
            "description_tooltip": null,
            "_model_module": "@jupyter-widgets/controls",
            "layout": "IPY_MODEL_8bfdfbbd92b041d9bbf725c303d44ab4"
          }
        },
        "d6a5159b66f741efbb0310ef92ad7f24": {
          "model_module": "@jupyter-widgets/controls",
          "model_name": "ProgressStyleModel",
          "state": {
            "_view_name": "StyleView",
            "_model_name": "ProgressStyleModel",
            "description_width": "initial",
            "_view_module": "@jupyter-widgets/base",
            "_model_module_version": "1.5.0",
            "_view_count": null,
            "_view_module_version": "1.2.0",
            "bar_color": null,
            "_model_module": "@jupyter-widgets/controls"
          }
        },
        "56b5c4ca473d43b98faf4104d48a5d65": {
          "model_module": "@jupyter-widgets/base",
          "model_name": "LayoutModel",
          "state": {
            "_view_name": "LayoutView",
            "grid_template_rows": null,
            "right": null,
            "justify_content": null,
            "_view_module": "@jupyter-widgets/base",
            "overflow": null,
            "_model_module_version": "1.2.0",
            "_view_count": null,
            "flex_flow": null,
            "width": null,
            "min_width": null,
            "border": null,
            "align_items": null,
            "bottom": null,
            "_model_module": "@jupyter-widgets/base",
            "top": null,
            "grid_column": null,
            "overflow_y": null,
            "overflow_x": null,
            "grid_auto_flow": null,
            "grid_area": null,
            "grid_template_columns": null,
            "flex": null,
            "_model_name": "LayoutModel",
            "justify_items": null,
            "grid_row": null,
            "max_height": null,
            "align_content": null,
            "visibility": null,
            "align_self": null,
            "height": null,
            "min_height": null,
            "padding": null,
            "grid_auto_rows": null,
            "grid_gap": null,
            "max_width": null,
            "order": null,
            "_view_module_version": "1.2.0",
            "grid_template_areas": null,
            "object_position": null,
            "object_fit": null,
            "grid_auto_columns": null,
            "margin": null,
            "display": null,
            "left": null
          }
        },
        "fddc138697054a9983534bc75d3a80b4": {
          "model_module": "@jupyter-widgets/controls",
          "model_name": "DescriptionStyleModel",
          "state": {
            "_view_name": "StyleView",
            "_model_name": "DescriptionStyleModel",
            "description_width": "",
            "_view_module": "@jupyter-widgets/base",
            "_model_module_version": "1.5.0",
            "_view_count": null,
            "_view_module_version": "1.2.0",
            "_model_module": "@jupyter-widgets/controls"
          }
        },
        "8bfdfbbd92b041d9bbf725c303d44ab4": {
          "model_module": "@jupyter-widgets/base",
          "model_name": "LayoutModel",
          "state": {
            "_view_name": "LayoutView",
            "grid_template_rows": null,
            "right": null,
            "justify_content": null,
            "_view_module": "@jupyter-widgets/base",
            "overflow": null,
            "_model_module_version": "1.2.0",
            "_view_count": null,
            "flex_flow": null,
            "width": null,
            "min_width": null,
            "border": null,
            "align_items": null,
            "bottom": null,
            "_model_module": "@jupyter-widgets/base",
            "top": null,
            "grid_column": null,
            "overflow_y": null,
            "overflow_x": null,
            "grid_auto_flow": null,
            "grid_area": null,
            "grid_template_columns": null,
            "flex": null,
            "_model_name": "LayoutModel",
            "justify_items": null,
            "grid_row": null,
            "max_height": null,
            "align_content": null,
            "visibility": null,
            "align_self": null,
            "height": null,
            "min_height": null,
            "padding": null,
            "grid_auto_rows": null,
            "grid_gap": null,
            "max_width": null,
            "order": null,
            "_view_module_version": "1.2.0",
            "grid_template_areas": null,
            "object_position": null,
            "object_fit": null,
            "grid_auto_columns": null,
            "margin": null,
            "display": null,
            "left": null
          }
        },
        "931665ef053a40179e942b05db0571ea": {
          "model_module": "@jupyter-widgets/controls",
          "model_name": "HBoxModel",
          "state": {
            "_view_name": "HBoxView",
            "_dom_classes": [],
            "_model_name": "HBoxModel",
            "_view_module": "@jupyter-widgets/controls",
            "_model_module_version": "1.5.0",
            "_view_count": null,
            "_view_module_version": "1.5.0",
            "box_style": "",
            "layout": "IPY_MODEL_3e78eeb338654f3f9efd5258dca701cc",
            "_model_module": "@jupyter-widgets/controls",
            "children": [
              "IPY_MODEL_b217088d23104f668e0611543e25f2f2",
              "IPY_MODEL_57b8f77a23ae411984a7b1f10c300d7b"
            ]
          }
        },
        "3e78eeb338654f3f9efd5258dca701cc": {
          "model_module": "@jupyter-widgets/base",
          "model_name": "LayoutModel",
          "state": {
            "_view_name": "LayoutView",
            "grid_template_rows": null,
            "right": null,
            "justify_content": null,
            "_view_module": "@jupyter-widgets/base",
            "overflow": null,
            "_model_module_version": "1.2.0",
            "_view_count": null,
            "flex_flow": null,
            "width": null,
            "min_width": null,
            "border": null,
            "align_items": null,
            "bottom": null,
            "_model_module": "@jupyter-widgets/base",
            "top": null,
            "grid_column": null,
            "overflow_y": null,
            "overflow_x": null,
            "grid_auto_flow": null,
            "grid_area": null,
            "grid_template_columns": null,
            "flex": null,
            "_model_name": "LayoutModel",
            "justify_items": null,
            "grid_row": null,
            "max_height": null,
            "align_content": null,
            "visibility": null,
            "align_self": null,
            "height": null,
            "min_height": null,
            "padding": null,
            "grid_auto_rows": null,
            "grid_gap": null,
            "max_width": null,
            "order": null,
            "_view_module_version": "1.2.0",
            "grid_template_areas": null,
            "object_position": null,
            "object_fit": null,
            "grid_auto_columns": null,
            "margin": null,
            "display": null,
            "left": null
          }
        },
        "b217088d23104f668e0611543e25f2f2": {
          "model_module": "@jupyter-widgets/controls",
          "model_name": "FloatProgressModel",
          "state": {
            "_view_name": "ProgressView",
            "style": "IPY_MODEL_054421ba763b450eb25253c9e83856ca",
            "_dom_classes": [],
            "description": "",
            "_model_name": "FloatProgressModel",
            "bar_style": "info",
            "max": 1,
            "_view_module": "@jupyter-widgets/controls",
            "_model_module_version": "1.5.0",
            "value": 1,
            "_view_count": null,
            "_view_module_version": "1.5.0",
            "orientation": "horizontal",
            "min": 0,
            "description_tooltip": null,
            "_model_module": "@jupyter-widgets/controls",
            "layout": "IPY_MODEL_9db40084fcd64701bc129c1eb83526e1"
          }
        },
        "57b8f77a23ae411984a7b1f10c300d7b": {
          "model_module": "@jupyter-widgets/controls",
          "model_name": "HTMLModel",
          "state": {
            "_view_name": "HTMLView",
            "style": "IPY_MODEL_7adad275b1444c0e8f797e675cddbbc7",
            "_dom_classes": [],
            "description": "",
            "_model_name": "HTMLModel",
            "placeholder": "​",
            "_view_module": "@jupyter-widgets/controls",
            "_model_module_version": "1.5.0",
            "value": " 1821/0 [00:00&lt;00:00, 2144.25 examples/s]",
            "_view_count": null,
            "_view_module_version": "1.5.0",
            "description_tooltip": null,
            "_model_module": "@jupyter-widgets/controls",
            "layout": "IPY_MODEL_228f1045a8944e96af13894c5aa511bf"
          }
        },
        "054421ba763b450eb25253c9e83856ca": {
          "model_module": "@jupyter-widgets/controls",
          "model_name": "ProgressStyleModel",
          "state": {
            "_view_name": "StyleView",
            "_model_name": "ProgressStyleModel",
            "description_width": "initial",
            "_view_module": "@jupyter-widgets/base",
            "_model_module_version": "1.5.0",
            "_view_count": null,
            "_view_module_version": "1.2.0",
            "bar_color": null,
            "_model_module": "@jupyter-widgets/controls"
          }
        },
        "9db40084fcd64701bc129c1eb83526e1": {
          "model_module": "@jupyter-widgets/base",
          "model_name": "LayoutModel",
          "state": {
            "_view_name": "LayoutView",
            "grid_template_rows": null,
            "right": null,
            "justify_content": null,
            "_view_module": "@jupyter-widgets/base",
            "overflow": null,
            "_model_module_version": "1.2.0",
            "_view_count": null,
            "flex_flow": null,
            "width": null,
            "min_width": null,
            "border": null,
            "align_items": null,
            "bottom": null,
            "_model_module": "@jupyter-widgets/base",
            "top": null,
            "grid_column": null,
            "overflow_y": null,
            "overflow_x": null,
            "grid_auto_flow": null,
            "grid_area": null,
            "grid_template_columns": null,
            "flex": null,
            "_model_name": "LayoutModel",
            "justify_items": null,
            "grid_row": null,
            "max_height": null,
            "align_content": null,
            "visibility": null,
            "align_self": null,
            "height": null,
            "min_height": null,
            "padding": null,
            "grid_auto_rows": null,
            "grid_gap": null,
            "max_width": null,
            "order": null,
            "_view_module_version": "1.2.0",
            "grid_template_areas": null,
            "object_position": null,
            "object_fit": null,
            "grid_auto_columns": null,
            "margin": null,
            "display": null,
            "left": null
          }
        },
        "7adad275b1444c0e8f797e675cddbbc7": {
          "model_module": "@jupyter-widgets/controls",
          "model_name": "DescriptionStyleModel",
          "state": {
            "_view_name": "StyleView",
            "_model_name": "DescriptionStyleModel",
            "description_width": "",
            "_view_module": "@jupyter-widgets/base",
            "_model_module_version": "1.5.0",
            "_view_count": null,
            "_view_module_version": "1.2.0",
            "_model_module": "@jupyter-widgets/controls"
          }
        },
        "228f1045a8944e96af13894c5aa511bf": {
          "model_module": "@jupyter-widgets/base",
          "model_name": "LayoutModel",
          "state": {
            "_view_name": "LayoutView",
            "grid_template_rows": null,
            "right": null,
            "justify_content": null,
            "_view_module": "@jupyter-widgets/base",
            "overflow": null,
            "_model_module_version": "1.2.0",
            "_view_count": null,
            "flex_flow": null,
            "width": null,
            "min_width": null,
            "border": null,
            "align_items": null,
            "bottom": null,
            "_model_module": "@jupyter-widgets/base",
            "top": null,
            "grid_column": null,
            "overflow_y": null,
            "overflow_x": null,
            "grid_auto_flow": null,
            "grid_area": null,
            "grid_template_columns": null,
            "flex": null,
            "_model_name": "LayoutModel",
            "justify_items": null,
            "grid_row": null,
            "max_height": null,
            "align_content": null,
            "visibility": null,
            "align_self": null,
            "height": null,
            "min_height": null,
            "padding": null,
            "grid_auto_rows": null,
            "grid_gap": null,
            "max_width": null,
            "order": null,
            "_view_module_version": "1.2.0",
            "grid_template_areas": null,
            "object_position": null,
            "object_fit": null,
            "grid_auto_columns": null,
            "margin": null,
            "display": null,
            "left": null
          }
        },
        "d93e04a2827c49fd96dfe6c731184499": {
          "model_module": "@jupyter-widgets/controls",
          "model_name": "HBoxModel",
          "state": {
            "_view_name": "HBoxView",
            "_dom_classes": [],
            "_model_name": "HBoxModel",
            "_view_module": "@jupyter-widgets/controls",
            "_model_module_version": "1.5.0",
            "_view_count": null,
            "_view_module_version": "1.5.0",
            "box_style": "",
            "layout": "IPY_MODEL_be28f1101f0e4e24956ed3e494db8bfa",
            "_model_module": "@jupyter-widgets/controls",
            "children": [
              "IPY_MODEL_f466083df7874eb98fa78732d465510f",
              "IPY_MODEL_376ae6b3cc7d45d397b649e832647cb0"
            ]
          }
        },
        "be28f1101f0e4e24956ed3e494db8bfa": {
          "model_module": "@jupyter-widgets/base",
          "model_name": "LayoutModel",
          "state": {
            "_view_name": "LayoutView",
            "grid_template_rows": null,
            "right": null,
            "justify_content": null,
            "_view_module": "@jupyter-widgets/base",
            "overflow": null,
            "_model_module_version": "1.2.0",
            "_view_count": null,
            "flex_flow": null,
            "width": null,
            "min_width": null,
            "border": null,
            "align_items": null,
            "bottom": null,
            "_model_module": "@jupyter-widgets/base",
            "top": null,
            "grid_column": null,
            "overflow_y": null,
            "overflow_x": null,
            "grid_auto_flow": null,
            "grid_area": null,
            "grid_template_columns": null,
            "flex": null,
            "_model_name": "LayoutModel",
            "justify_items": null,
            "grid_row": null,
            "max_height": null,
            "align_content": null,
            "visibility": null,
            "align_self": null,
            "height": null,
            "min_height": null,
            "padding": null,
            "grid_auto_rows": null,
            "grid_gap": null,
            "max_width": null,
            "order": null,
            "_view_module_version": "1.2.0",
            "grid_template_areas": null,
            "object_position": null,
            "object_fit": null,
            "grid_auto_columns": null,
            "margin": null,
            "display": null,
            "left": null
          }
        },
        "f466083df7874eb98fa78732d465510f": {
          "model_module": "@jupyter-widgets/controls",
          "model_name": "FloatProgressModel",
          "state": {
            "_view_name": "ProgressView",
            "style": "IPY_MODEL_d42e4bf8a4c648d1a0404ff271caa08c",
            "_dom_classes": [],
            "description": "  0%",
            "_model_name": "FloatProgressModel",
            "bar_style": "danger",
            "max": 1821,
            "_view_module": "@jupyter-widgets/controls",
            "_model_module_version": "1.5.0",
            "value": 0,
            "_view_count": null,
            "_view_module_version": "1.5.0",
            "orientation": "horizontal",
            "min": 0,
            "description_tooltip": null,
            "_model_module": "@jupyter-widgets/controls",
            "layout": "IPY_MODEL_a4223fb488f2456aa2bf692139c95206"
          }
        },
        "376ae6b3cc7d45d397b649e832647cb0": {
          "model_module": "@jupyter-widgets/controls",
          "model_name": "HTMLModel",
          "state": {
            "_view_name": "HTMLView",
            "style": "IPY_MODEL_a1603954bb5d47c7aa27ef65189ffeb8",
            "_dom_classes": [],
            "description": "",
            "_model_name": "HTMLModel",
            "placeholder": "​",
            "_view_module": "@jupyter-widgets/controls",
            "_model_module_version": "1.5.0",
            "value": " 0/1821 [00:07&lt;?, ? examples/s]",
            "_view_count": null,
            "_view_module_version": "1.5.0",
            "description_tooltip": null,
            "_model_module": "@jupyter-widgets/controls",
            "layout": "IPY_MODEL_1dbb957db5c34643bdb38f220d186d4b"
          }
        },
        "d42e4bf8a4c648d1a0404ff271caa08c": {
          "model_module": "@jupyter-widgets/controls",
          "model_name": "ProgressStyleModel",
          "state": {
            "_view_name": "StyleView",
            "_model_name": "ProgressStyleModel",
            "description_width": "initial",
            "_view_module": "@jupyter-widgets/base",
            "_model_module_version": "1.5.0",
            "_view_count": null,
            "_view_module_version": "1.2.0",
            "bar_color": null,
            "_model_module": "@jupyter-widgets/controls"
          }
        },
        "a4223fb488f2456aa2bf692139c95206": {
          "model_module": "@jupyter-widgets/base",
          "model_name": "LayoutModel",
          "state": {
            "_view_name": "LayoutView",
            "grid_template_rows": null,
            "right": null,
            "justify_content": null,
            "_view_module": "@jupyter-widgets/base",
            "overflow": null,
            "_model_module_version": "1.2.0",
            "_view_count": null,
            "flex_flow": null,
            "width": null,
            "min_width": null,
            "border": null,
            "align_items": null,
            "bottom": null,
            "_model_module": "@jupyter-widgets/base",
            "top": null,
            "grid_column": null,
            "overflow_y": null,
            "overflow_x": null,
            "grid_auto_flow": null,
            "grid_area": null,
            "grid_template_columns": null,
            "flex": null,
            "_model_name": "LayoutModel",
            "justify_items": null,
            "grid_row": null,
            "max_height": null,
            "align_content": null,
            "visibility": null,
            "align_self": null,
            "height": null,
            "min_height": null,
            "padding": null,
            "grid_auto_rows": null,
            "grid_gap": null,
            "max_width": null,
            "order": null,
            "_view_module_version": "1.2.0",
            "grid_template_areas": null,
            "object_position": null,
            "object_fit": null,
            "grid_auto_columns": null,
            "margin": null,
            "display": null,
            "left": null
          }
        },
        "a1603954bb5d47c7aa27ef65189ffeb8": {
          "model_module": "@jupyter-widgets/controls",
          "model_name": "DescriptionStyleModel",
          "state": {
            "_view_name": "StyleView",
            "_model_name": "DescriptionStyleModel",
            "description_width": "",
            "_view_module": "@jupyter-widgets/base",
            "_model_module_version": "1.5.0",
            "_view_count": null,
            "_view_module_version": "1.2.0",
            "_model_module": "@jupyter-widgets/controls"
          }
        },
        "1dbb957db5c34643bdb38f220d186d4b": {
          "model_module": "@jupyter-widgets/base",
          "model_name": "LayoutModel",
          "state": {
            "_view_name": "LayoutView",
            "grid_template_rows": null,
            "right": null,
            "justify_content": null,
            "_view_module": "@jupyter-widgets/base",
            "overflow": null,
            "_model_module_version": "1.2.0",
            "_view_count": null,
            "flex_flow": null,
            "width": null,
            "min_width": null,
            "border": null,
            "align_items": null,
            "bottom": null,
            "_model_module": "@jupyter-widgets/base",
            "top": null,
            "grid_column": null,
            "overflow_y": null,
            "overflow_x": null,
            "grid_auto_flow": null,
            "grid_area": null,
            "grid_template_columns": null,
            "flex": null,
            "_model_name": "LayoutModel",
            "justify_items": null,
            "grid_row": null,
            "max_height": null,
            "align_content": null,
            "visibility": null,
            "align_self": null,
            "height": null,
            "min_height": null,
            "padding": null,
            "grid_auto_rows": null,
            "grid_gap": null,
            "max_width": null,
            "order": null,
            "_view_module_version": "1.2.0",
            "grid_template_areas": null,
            "object_position": null,
            "object_fit": null,
            "grid_auto_columns": null,
            "margin": null,
            "display": null,
            "left": null
          }
        }
      }
    }
  },
  "cells": [
    {
      "cell_type": "code",
      "metadata": {
        "id": "0cEzCSUD-z0-",
        "colab_type": "code",
        "colab": {}
      },
      "source": [
        "import tensorflow as tf\n",
        "import tensorflow_datasets as tfds\n",
        "\n",
        "import numpy as np\n",
        "\n",
        "from tensorflow.keras.preprocessing.sequence import pad_sequences "
      ],
      "execution_count": 1,
      "outputs": []
    },
    {
      "cell_type": "code",
      "metadata": {
        "id": "-dk7RB75_MRE",
        "colab_type": "code",
        "colab": {
          "base_uri": "https://localhost:8080/",
          "height": 593,
          "referenced_widgets": [
            "ffa9c07279a94f7fa88003a28a9dccab",
            "7abab77e016d4655ad20833274441738",
            "96d53fbe4b034f929a1b896228834ad2",
            "38f08073fdb44c0f97d8f5f68148bf5f",
            "cb9156b15d0e4aee8e77354b2c90c271",
            "b0b347523f4245189b89e64256f91342",
            "2aed6e8bd1c641d994e051645f25b375",
            "1395c22482a34008aa0728541c848bfa",
            "f8817f9ddef544bbaaa77513a8cb65f3",
            "989c06f72d8747ff83c2668e4b5d0c36",
            "1f72dce40d734509aa8329a793ed66cf",
            "e801c94b7bf243019c6e658498a166b7",
            "00b65b8e686d47d7a684272b5277f77b",
            "f27445d2e43a44289927ab59c034a0c8",
            "95d59e9a97ac4982a4a3e2eb56270480",
            "56b51df9f7404d1b9d21f2dbf7fdd9e1",
            "02e1906701e447b491430269a12f773b",
            "92fdaf8dd4294ebda70d8aad16556c6d",
            "27a45dff252041f7b858665eb2ba09be",
            "7b563354f7154f56b1fea2079ef6c2ea",
            "2396c88ce2da428498c1741457b5a7ce",
            "03b5d60ef8064e6cad95210379c574da",
            "916877fe787f4fe2b4a03f7ebf1a3c18",
            "897333a363514947a9ee16ffc02e88ba",
            "534fbe95e48c4175bb65215a11510d4a",
            "d3dfc2a5472c423fb64b71f568c6594e",
            "16d05b1d08a646cb9654e3a5e82119ad",
            "4c28e3c33f344a10ae62121fa8f5aba0",
            "deff1ff9eaaf4274bbf7c6bf0a914241",
            "1d3f35c241574693a2df90cdb4ffa56c",
            "d7bb0c1a660b4981aa628d55cf9a2f22",
            "d7fefe5b241f4ec5ae4486a3cf3c8eb6",
            "cdfcf59ddfcd4611bed660b5dae73031",
            "706364feb5ab49b7b61244fe92e13952",
            "b3f3c02fbdb441b2a49ecdf373314685",
            "6da803fde49c4e54b27f8d3b3d193122",
            "becad73a4df24eda90b3eced15f27d48",
            "4db9c6f62bd2417a91e6821c91528d45",
            "daf3e3709494489dbdcbebf2c8154693",
            "2aa947219de74a8d973cdfcabb5f36da",
            "65d4216caf794866a7e5ad960b1c087d",
            "06378c691bc54048ad5e75acf5db24b1",
            "87be252e0b0a4311b08be30b5c9cdbbe",
            "7654097324304eb3a9bbfbc567db1f70",
            "11998034faa545fdaf1d45d879fc415e",
            "ce444ecd5a524cba96d0ea37d4b5667e",
            "35f2f77b973d4ee499f29778c5a482a2",
            "79371a46180348febad72b4dbd073e22",
            "49a440df7966498fad26785f2c221828",
            "88a5bb048c1744cfa0c56a73ec159e86",
            "a682907a09f64e638c59a216389d10db",
            "b4cb2e996b8a46fabe1496126fbe3031",
            "d6a5159b66f741efbb0310ef92ad7f24",
            "56b5c4ca473d43b98faf4104d48a5d65",
            "fddc138697054a9983534bc75d3a80b4",
            "8bfdfbbd92b041d9bbf725c303d44ab4",
            "931665ef053a40179e942b05db0571ea",
            "3e78eeb338654f3f9efd5258dca701cc",
            "b217088d23104f668e0611543e25f2f2",
            "57b8f77a23ae411984a7b1f10c300d7b",
            "054421ba763b450eb25253c9e83856ca",
            "9db40084fcd64701bc129c1eb83526e1",
            "7adad275b1444c0e8f797e675cddbbc7",
            "228f1045a8944e96af13894c5aa511bf",
            "d93e04a2827c49fd96dfe6c731184499",
            "be28f1101f0e4e24956ed3e494db8bfa",
            "f466083df7874eb98fa78732d465510f",
            "376ae6b3cc7d45d397b649e832647cb0",
            "d42e4bf8a4c648d1a0404ff271caa08c",
            "a4223fb488f2456aa2bf692139c95206",
            "a1603954bb5d47c7aa27ef65189ffeb8",
            "1dbb957db5c34643bdb38f220d186d4b"
          ]
        },
        "outputId": "a6ba2c45-879f-42a2-bf56-2c22471b41a7"
      },
      "source": [
        "dataset,info =tfds.load('glue/sst2' ,with_info=True)\n",
        "print(info.features)\n",
        "\n",
        "print(info.features['label'].num_classes)\n",
        "print(info.features['label'].names)"
      ],
      "execution_count": 2,
      "outputs": [
        {
          "output_type": "stream",
          "text": [
            "\u001b[1mDownloading and preparing dataset glue/sst2/1.0.0 (download: 7.09 MiB, generated: Unknown size, total: 7.09 MiB) to /root/tensorflow_datasets/glue/sst2/1.0.0...\u001b[0m\n"
          ],
          "name": "stdout"
        },
        {
          "output_type": "display_data",
          "data": {
            "application/vnd.jupyter.widget-view+json": {
              "model_id": "ffa9c07279a94f7fa88003a28a9dccab",
              "version_minor": 0,
              "version_major": 2
            },
            "text/plain": [
              "HBox(children=(FloatProgress(value=1.0, bar_style='info', description='Dl Completed...', max=1.0, style=Progre…"
            ]
          },
          "metadata": {
            "tags": []
          }
        },
        {
          "output_type": "display_data",
          "data": {
            "application/vnd.jupyter.widget-view+json": {
              "model_id": "f8817f9ddef544bbaaa77513a8cb65f3",
              "version_minor": 0,
              "version_major": 2
            },
            "text/plain": [
              "HBox(children=(FloatProgress(value=1.0, bar_style='info', description='Dl Size...', max=1.0, style=ProgressSty…"
            ]
          },
          "metadata": {
            "tags": []
          }
        },
        {
          "output_type": "display_data",
          "data": {
            "application/vnd.jupyter.widget-view+json": {
              "model_id": "02e1906701e447b491430269a12f773b",
              "version_minor": 0,
              "version_major": 2
            },
            "text/plain": [
              "HBox(children=(FloatProgress(value=1.0, bar_style='info', description='Extraction completed...', max=1.0, styl…"
            ]
          },
          "metadata": {
            "tags": []
          }
        },
        {
          "output_type": "stream",
          "text": [
            "/usr/local/lib/python3.6/dist-packages/urllib3/connectionpool.py:847: InsecureRequestWarning: Unverified HTTPS request is being made. Adding certificate verification is strongly advised. See: https://urllib3.readthedocs.io/en/latest/advanced-usage.html#ssl-warnings\n",
            "  InsecureRequestWarning)\n"
          ],
          "name": "stderr"
        },
        {
          "output_type": "stream",
          "text": [
            "\n",
            "\n",
            "\n",
            "\n",
            "\n",
            "\n"
          ],
          "name": "stdout"
        },
        {
          "output_type": "display_data",
          "data": {
            "application/vnd.jupyter.widget-view+json": {
              "model_id": "534fbe95e48c4175bb65215a11510d4a",
              "version_minor": 0,
              "version_major": 2
            },
            "text/plain": [
              "HBox(children=(FloatProgress(value=1.0, bar_style='info', max=1.0), HTML(value='')))"
            ]
          },
          "metadata": {
            "tags": []
          }
        },
        {
          "output_type": "stream",
          "text": [
            "\rShuffling and writing examples to /root/tensorflow_datasets/glue/sst2/1.0.0.incompleteI6IEZ3/glue-train.tfrecord\n"
          ],
          "name": "stdout"
        },
        {
          "output_type": "display_data",
          "data": {
            "application/vnd.jupyter.widget-view+json": {
              "model_id": "cdfcf59ddfcd4611bed660b5dae73031",
              "version_minor": 0,
              "version_major": 2
            },
            "text/plain": [
              "HBox(children=(FloatProgress(value=0.0, max=67349.0), HTML(value='')))"
            ]
          },
          "metadata": {
            "tags": []
          }
        },
        {
          "output_type": "stream",
          "text": [
            "\r"
          ],
          "name": "stdout"
        },
        {
          "output_type": "display_data",
          "data": {
            "application/vnd.jupyter.widget-view+json": {
              "model_id": "65d4216caf794866a7e5ad960b1c087d",
              "version_minor": 0,
              "version_major": 2
            },
            "text/plain": [
              "HBox(children=(FloatProgress(value=1.0, bar_style='info', max=1.0), HTML(value='')))"
            ]
          },
          "metadata": {
            "tags": []
          }
        },
        {
          "output_type": "stream",
          "text": [
            "\rShuffling and writing examples to /root/tensorflow_datasets/glue/sst2/1.0.0.incompleteI6IEZ3/glue-validation.tfrecord\n"
          ],
          "name": "stdout"
        },
        {
          "output_type": "display_data",
          "data": {
            "application/vnd.jupyter.widget-view+json": {
              "model_id": "49a440df7966498fad26785f2c221828",
              "version_minor": 0,
              "version_major": 2
            },
            "text/plain": [
              "HBox(children=(FloatProgress(value=0.0, max=872.0), HTML(value='')))"
            ]
          },
          "metadata": {
            "tags": []
          }
        },
        {
          "output_type": "display_data",
          "data": {
            "application/vnd.jupyter.widget-view+json": {
              "model_id": "931665ef053a40179e942b05db0571ea",
              "version_minor": 0,
              "version_major": 2
            },
            "text/plain": [
              "HBox(children=(FloatProgress(value=1.0, bar_style='info', max=1.0), HTML(value='')))"
            ]
          },
          "metadata": {
            "tags": []
          }
        },
        {
          "output_type": "stream",
          "text": [
            "Shuffling and writing examples to /root/tensorflow_datasets/glue/sst2/1.0.0.incompleteI6IEZ3/glue-test.tfrecord\n"
          ],
          "name": "stdout"
        },
        {
          "output_type": "display_data",
          "data": {
            "application/vnd.jupyter.widget-view+json": {
              "model_id": "d93e04a2827c49fd96dfe6c731184499",
              "version_minor": 0,
              "version_major": 2
            },
            "text/plain": [
              "HBox(children=(FloatProgress(value=0.0, max=1821.0), HTML(value='')))"
            ]
          },
          "metadata": {
            "tags": []
          }
        },
        {
          "output_type": "stream",
          "text": [
            "\u001b[1mDataset glue downloaded and prepared to /root/tensorflow_datasets/glue/sst2/1.0.0. Subsequent calls will reuse this data.\u001b[0m\n",
            "FeaturesDict({\n",
            "    'idx': tf.int32,\n",
            "    'label': ClassLabel(shape=(), dtype=tf.int64, num_classes=2),\n",
            "    'sentence': Text(shape=(), dtype=tf.string),\n",
            "})\n",
            "2\n",
            "['negative', 'positive']\n"
          ],
          "name": "stdout"
        }
      ]
    },
    {
      "cell_type": "code",
      "metadata": {
        "id": "JCRte6Q__t9v",
        "colab_type": "code",
        "colab": {
          "base_uri": "https://localhost:8080/",
          "height": 55
        },
        "outputId": "a19fb243-2879-456d-836d-ca6e2eed3a6c"
      },
      "source": [
        "dataset_train,dataset_validation=dataset['train'],dataset['validation']\n",
        "\n",
        "dataset_train"
      ],
      "execution_count": 3,
      "outputs": [
        {
          "output_type": "execute_result",
          "data": {
            "text/plain": [
              "<DatasetV1Adapter shapes: {idx: (), label: (), sentence: ()}, types: {idx: tf.int32, label: tf.int64, sentence: tf.string}>"
            ]
          },
          "metadata": {
            "tags": []
          },
          "execution_count": 3
        }
      ]
    },
    {
      "cell_type": "code",
      "metadata": {
        "id": "WzJHbO_vAR4I",
        "colab_type": "code",
        "colab": {
          "base_uri": "https://localhost:8080/",
          "height": 146
        },
        "outputId": "9275ab18-b465-4905-9371-69d70a2a9dd1"
      },
      "source": [
        "for example in dataset_train.take(2):\n",
        "    review, label=example['sentence'], example['label']\n",
        "    print(\"Review: \" ,review)\n",
        "    print(\"Label: %d\" %label.numpy())\n",
        "    print()"
      ],
      "execution_count": 4,
      "outputs": [
        {
          "output_type": "stream",
          "text": [
            "Review:  tf.Tensor(b'for the uninitiated plays better on video with the sound ', shape=(), dtype=string)\n",
            "Label: 0\n",
            "\n",
            "Review:  tf.Tensor(b'like a giant commercial for universal studios , where much of the action takes place ', shape=(), dtype=string)\n",
            "Label: 0\n",
            "\n"
          ],
          "name": "stdout"
        }
      ]
    },
    {
      "cell_type": "code",
      "metadata": {
        "id": "2-yvFm64A2BN",
        "colab_type": "code",
        "colab": {
          "base_uri": "https://localhost:8080/",
          "height": 163
        },
        "outputId": "15a84d1a-e2bb-4139-913e-16c198432c61"
      },
      "source": [
        "training_reviews=[]\n",
        "training_labels=[]\n",
        "\n",
        "validation_reviews=[]\n",
        "validation_labels=[]\n",
        "\n",
        "for item in dataset_train.take(-1):\n",
        "    review,label = item['sentence'],item['label'] \n",
        "    training_reviews.append(str(review.numpy()))\n",
        "    training_labels.append(label.numpy())\n",
        "\n",
        "print(\"\\n Number of Training reviews is: \",len(training_reviews))\n",
        "\n",
        "\n",
        "for i in range(0,2):\n",
        "    print(training_reviews[i])\n",
        "    print(training_labels[i])\n",
        "\n",
        "for item in dataset_validation.take(-1):\n",
        "    review,label = item['sentence'],item['label'] \n",
        "    validation_reviews.append(str(review.numpy()))\n",
        "    validation_labels.append(label.numpy())\n",
        "\n",
        "print(\"\\n Number of Training reviews is: \",len(validation_reviews))\n",
        "\n",
        "  "
      ],
      "execution_count": 5,
      "outputs": [
        {
          "output_type": "stream",
          "text": [
            "\n",
            " Number of Training reviews is:  67349\n",
            "b'for the uninitiated plays better on video with the sound '\n",
            "0\n",
            "b'like a giant commercial for universal studios , where much of the action takes place '\n",
            "0\n",
            "\n",
            " Number of Training reviews is:  872\n"
          ],
          "name": "stdout"
        }
      ]
    },
    {
      "cell_type": "markdown",
      "metadata": {
        "id": "DUM1VALmC6tq",
        "colab_type": "text"
      },
      "source": [
        "**Tokenize the words and sequence the sentences**"
      ]
    },
    {
      "cell_type": "code",
      "metadata": {
        "id": "KoykZNh6C4U7",
        "colab_type": "code",
        "colab": {}
      },
      "source": [
        "vocab_size=4000\n",
        "embedding_dim=16\n",
        "max_length=50\n",
        "trunc_type='post'\n",
        "padding_type='post'\n",
        "oov_tok=\"<OOV>\"\n",
        "\n",
        "\n",
        "from tensorflow.keras.preprocessing.text import Tokenizer\n",
        "from tensorflow.keras.preprocessing.sequence import pad_sequences\n",
        "\n",
        "tokenizer=Tokenizer(num_words=4000, oov_token=oov_tok)\n",
        "tokenizer.fit_on_texts(training_reviews)\n",
        "word_index = tokenizer.word_index\n",
        "\n"
      ],
      "execution_count": 6,
      "outputs": []
    },
    {
      "cell_type": "markdown",
      "metadata": {
        "id": "UWhhFci5EgVA",
        "colab_type": "text"
      },
      "source": [
        "**Pad the Sequences**"
      ]
    },
    {
      "cell_type": "code",
      "metadata": {
        "id": "t9AOiVqsEb9U",
        "colab_type": "code",
        "colab": {}
      },
      "source": [
        "training_sequences=tokenizer.texts_to_sequences(training_reviews)\n",
        "training_padded=pad_sequences(training_sequences,maxlen=max_length,\n",
        "                              truncating=trunc_type,\n",
        "                              padding=padding_type)\n",
        "\n",
        "validation_sequences=tokenizer.texts_to_sequences(validation_reviews)\n",
        "validation_padded=pad_sequences(validation_sequences,maxlen=max_length,\n",
        "                              truncating=trunc_type,\n",
        "                              padding=padding_type)\n",
        "\n",
        "training_labels_final=np.array(training_labels)\n",
        "validation_labels_final=np.array(validation_labels)"
      ],
      "execution_count": 7,
      "outputs": []
    },
    {
      "cell_type": "markdown",
      "metadata": {
        "id": "ZBhRKa6QGNfx",
        "colab_type": "text"
      },
      "source": [
        "**Creating the model using an Embedding**"
      ]
    },
    {
      "cell_type": "code",
      "metadata": {
        "id": "EQy7mh3YFokE",
        "colab_type": "code",
        "colab": {}
      },
      "source": [
        "model=tf.keras.Sequential([\n",
        "              tf.keras.layers.Embedding(vocab_size,embedding_dim, input_length=max_length),\n",
        "              tf.keras.layers.GlobalAveragePooling1D(),\n",
        "              tf.keras.layers.Dense(6,activation='relu'),\n",
        "              tf.keras.layers.Dense(1, activation='sigmoid')\n",
        "])"
      ],
      "execution_count": 8,
      "outputs": []
    },
    {
      "cell_type": "code",
      "metadata": {
        "id": "Wl-CJgFlNwWs",
        "colab_type": "code",
        "colab": {
          "base_uri": "https://localhost:8080/",
          "height": 308
        },
        "outputId": "97c31577-d38e-44c8-a925-a6ad1813b5d1"
      },
      "source": [
        "model.compile(\n",
        "    loss='binary_crossentropy',\n",
        "    optimizer='adam',\n",
        "    metrics=['accuracy']\n",
        ")\n",
        "model.summary()"
      ],
      "execution_count": 9,
      "outputs": [
        {
          "output_type": "stream",
          "text": [
            "Model: \"sequential\"\n",
            "_________________________________________________________________\n",
            "Layer (type)                 Output Shape              Param #   \n",
            "=================================================================\n",
            "embedding (Embedding)        (None, 50, 16)            64000     \n",
            "_________________________________________________________________\n",
            "global_average_pooling1d (Gl (None, 16)                0         \n",
            "_________________________________________________________________\n",
            "dense (Dense)                (None, 6)                 102       \n",
            "_________________________________________________________________\n",
            "dense_1 (Dense)              (None, 1)                 7         \n",
            "=================================================================\n",
            "Total params: 64,109\n",
            "Trainable params: 64,109\n",
            "Non-trainable params: 0\n",
            "_________________________________________________________________\n"
          ],
          "name": "stdout"
        }
      ]
    },
    {
      "cell_type": "code",
      "metadata": {
        "id": "0sJYE9ioN9rc",
        "colab_type": "code",
        "colab": {
          "base_uri": "https://localhost:8080/",
          "height": 1000
        },
        "outputId": "4bf703e6-0f22-472a-c85b-41e6106583fb"
      },
      "source": [
        "num_epochs=30\n",
        "history=model.fit(training_padded,training_labels_final,\n",
        "                  epochs=num_epochs,\n",
        "                  validation_data=(validation_padded,validation_labels_final))"
      ],
      "execution_count": 10,
      "outputs": [
        {
          "output_type": "stream",
          "text": [
            "Epoch 1/30\n",
            "2105/2105 [==============================] - 11s 5ms/step - loss: 0.5642 - accuracy: 0.7018 - val_loss: 0.4539 - val_accuracy: 0.8039\n",
            "Epoch 2/30\n",
            "2105/2105 [==============================] - 11s 5ms/step - loss: 0.3833 - accuracy: 0.8234 - val_loss: 0.4856 - val_accuracy: 0.7970\n",
            "Epoch 3/30\n",
            "2105/2105 [==============================] - 11s 5ms/step - loss: 0.3435 - accuracy: 0.8349 - val_loss: 0.5280 - val_accuracy: 0.7856\n",
            "Epoch 4/30\n",
            "2105/2105 [==============================] - 10s 5ms/step - loss: 0.3284 - accuracy: 0.8428 - val_loss: 0.5444 - val_accuracy: 0.7890\n",
            "Epoch 5/30\n",
            "2105/2105 [==============================] - 11s 5ms/step - loss: 0.3210 - accuracy: 0.8455 - val_loss: 0.5623 - val_accuracy: 0.7856\n",
            "Epoch 6/30\n",
            "2105/2105 [==============================] - 11s 5ms/step - loss: 0.3150 - accuracy: 0.8473 - val_loss: 0.5646 - val_accuracy: 0.7867\n",
            "Epoch 7/30\n",
            "2105/2105 [==============================] - 11s 5ms/step - loss: 0.3110 - accuracy: 0.8505 - val_loss: 0.5681 - val_accuracy: 0.7890\n",
            "Epoch 8/30\n",
            "2105/2105 [==============================] - 11s 5ms/step - loss: 0.3088 - accuracy: 0.8506 - val_loss: 0.5717 - val_accuracy: 0.7867\n",
            "Epoch 9/30\n",
            "2105/2105 [==============================] - 11s 5ms/step - loss: 0.3057 - accuracy: 0.8521 - val_loss: 0.5705 - val_accuracy: 0.7833\n",
            "Epoch 10/30\n",
            "2105/2105 [==============================] - 11s 5ms/step - loss: 0.3034 - accuracy: 0.8535 - val_loss: 0.5808 - val_accuracy: 0.7947\n",
            "Epoch 11/30\n",
            "2105/2105 [==============================] - 10s 5ms/step - loss: 0.3025 - accuracy: 0.8543 - val_loss: 0.5830 - val_accuracy: 0.7856\n",
            "Epoch 12/30\n",
            "2105/2105 [==============================] - 10s 5ms/step - loss: 0.2998 - accuracy: 0.8559 - val_loss: 0.5786 - val_accuracy: 0.7901\n",
            "Epoch 13/30\n",
            "2105/2105 [==============================] - 11s 5ms/step - loss: 0.2990 - accuracy: 0.8563 - val_loss: 0.5943 - val_accuracy: 0.7833\n",
            "Epoch 14/30\n",
            "2105/2105 [==============================] - 10s 5ms/step - loss: 0.2974 - accuracy: 0.8571 - val_loss: 0.6155 - val_accuracy: 0.7833\n",
            "Epoch 15/30\n",
            "2105/2105 [==============================] - 11s 5ms/step - loss: 0.2948 - accuracy: 0.8586 - val_loss: 0.6073 - val_accuracy: 0.7821\n",
            "Epoch 16/30\n",
            "2105/2105 [==============================] - 11s 5ms/step - loss: 0.2938 - accuracy: 0.8579 - val_loss: 0.6229 - val_accuracy: 0.7867\n",
            "Epoch 17/30\n",
            "2105/2105 [==============================] - 11s 5ms/step - loss: 0.2914 - accuracy: 0.8593 - val_loss: 0.6424 - val_accuracy: 0.7787\n",
            "Epoch 18/30\n",
            "2105/2105 [==============================] - 12s 6ms/step - loss: 0.2892 - accuracy: 0.8599 - val_loss: 0.6579 - val_accuracy: 0.7878\n",
            "Epoch 19/30\n",
            "2105/2105 [==============================] - 11s 5ms/step - loss: 0.2864 - accuracy: 0.8617 - val_loss: 0.6517 - val_accuracy: 0.7775\n",
            "Epoch 20/30\n",
            "2105/2105 [==============================] - 11s 5ms/step - loss: 0.2846 - accuracy: 0.8620 - val_loss: 0.6994 - val_accuracy: 0.7741\n",
            "Epoch 21/30\n",
            "2105/2105 [==============================] - 11s 5ms/step - loss: 0.2818 - accuracy: 0.8625 - val_loss: 0.6958 - val_accuracy: 0.7821\n",
            "Epoch 22/30\n",
            "2105/2105 [==============================] - 11s 5ms/step - loss: 0.2784 - accuracy: 0.8638 - val_loss: 0.7591 - val_accuracy: 0.7821\n",
            "Epoch 23/30\n",
            "2105/2105 [==============================] - 11s 5ms/step - loss: 0.2759 - accuracy: 0.8649 - val_loss: 0.7245 - val_accuracy: 0.7787\n",
            "Epoch 24/30\n",
            "2105/2105 [==============================] - 11s 5ms/step - loss: 0.2726 - accuracy: 0.8657 - val_loss: 0.7750 - val_accuracy: 0.7729\n",
            "Epoch 25/30\n",
            "2105/2105 [==============================] - 11s 5ms/step - loss: 0.2707 - accuracy: 0.8666 - val_loss: 0.8019 - val_accuracy: 0.7821\n",
            "Epoch 26/30\n",
            "2105/2105 [==============================] - 11s 5ms/step - loss: 0.2683 - accuracy: 0.8670 - val_loss: 0.8380 - val_accuracy: 0.7718\n",
            "Epoch 27/30\n",
            "2105/2105 [==============================] - 11s 5ms/step - loss: 0.2652 - accuracy: 0.8690 - val_loss: 0.8598 - val_accuracy: 0.7752\n",
            "Epoch 28/30\n",
            "2105/2105 [==============================] - 11s 5ms/step - loss: 0.2632 - accuracy: 0.8695 - val_loss: 0.8871 - val_accuracy: 0.7729\n",
            "Epoch 29/30\n",
            "2105/2105 [==============================] - 10s 5ms/step - loss: 0.2607 - accuracy: 0.8711 - val_loss: 0.9008 - val_accuracy: 0.7695\n",
            "Epoch 30/30\n",
            "2105/2105 [==============================] - 11s 5ms/step - loss: 0.2598 - accuracy: 0.8702 - val_loss: 0.9468 - val_accuracy: 0.7683\n"
          ],
          "name": "stdout"
        }
      ]
    },
    {
      "cell_type": "code",
      "metadata": {
        "id": "klmTfFuCOnA-",
        "colab_type": "code",
        "colab": {
          "base_uri": "https://localhost:8080/",
          "height": 541
        },
        "outputId": "3c68e7e2-2341-4807-9e00-43325e0175fb"
      },
      "source": [
        "import matplotlib.pyplot as plt\n",
        "\n",
        "def plot_graphs(history, string):\n",
        "  plt.plot(history.history[string])\n",
        "  plt.plot(history.history['val_'+string])\n",
        "  plt.xlabel(\"Epochs\")\n",
        "  plt.ylabel(string)\n",
        "  plt.legend([string, 'val_'+string])\n",
        "  plt.show()\n",
        "  \n",
        "plot_graphs(history, \"accuracy\")\n",
        "plot_graphs(history, \"loss\")"
      ],
      "execution_count": 11,
      "outputs": [
        {
          "output_type": "display_data",
          "data": {
            "image/png": "[encoded data removed]",
            "text/plain": [
              "<Figure size 432x288 with 1 Axes>"
            ]
          },
          "metadata": {
            "tags": [],
            "needs_background": "light"
          }
        },
        {
          "output_type": "display_data",
          "data": {
            "image/png": "[encoded data removed]",
            "text/plain": [
              "<Figure size 432x288 with 1 Axes>"
            ]
          },
          "metadata": {
            "tags": [],
            "needs_background": "light"
          }
        }
      ]
    },
    {
      "cell_type": "code",
      "metadata": {
        "id": "B7pnI3aiPaYu",
        "colab_type": "code",
        "colab": {}
      },
      "source": [
        "reviews1=\"I loved this movie\"\n",
        "reviews2=\"that was the worst movie I've ever seen\"\n",
        "reviews3=\"too much violence even for a Bond Film\"\n",
        "reviews4=\"a captivating recounting of a cherished myths\"\n",
        "\n",
        "new_reviews=[reviews1, reviews2 , reviews3 , reviews4]"
      ],
      "execution_count": 14,
      "outputs": []
    },
    {
      "cell_type": "code",
      "metadata": {
        "id": "kdAWHjScQfXw",
        "colab_type": "code",
        "colab": {
          "base_uri": "https://localhost:8080/",
          "height": 235
        },
        "outputId": "f6598197-530b-468a-8be9-634fe340d6f3"
      },
      "source": [
        "def predict_review(model,reviews):\n",
        "    padding_type=\"post\"\n",
        "    sample_sequences=tokenizer.texts_to_sequences(reviews)\n",
        "    review_padded=pad_sequences(sample_sequences,maxlen=max_length,padding=padding_type)\n",
        "    classes=model.predict(review_padded)\n",
        "\n",
        "    for x in range(len(reviews)):\n",
        "        print(reviews[x])\n",
        "        print(classes[x])\n",
        "        print()\n",
        "\n",
        "predict_review(model,new_reviews)"
      ],
      "execution_count": 13,
      "outputs": [
        {
          "output_type": "stream",
          "text": [
            "I loved this movie\n",
            "[0.99878246]\n",
            "\n",
            "that was the worst movie I've ever seen\n",
            "[0.00590857]\n",
            "\n",
            "too much violence even for a Bond Film\n",
            "[0.01523129]\n",
            "\n",
            "a captivating recounting of a cherished myths\n",
            "[0.9225624]\n",
            "\n"
          ],
          "name": "stdout"
        }
      ]
    },
    {
      "cell_type": "code",
      "metadata": {
        "id": "9S-3q93a0UWi",
        "colab_type": "code",
        "colab": {}
      },
      "source": [
        "model_cnn=tf.keras.Sequential([\n",
        "    tf.keras.layers.Embedding(vocab_size,embedding_dim,input_length=max_length),\n",
        "    tf.keras.layers.Conv1D(128,5,activation='relu'),\n",
        "    tf.keras.layers.GlobalAveragePooling1D(),\n",
        "    tf.keras.layers.Dense(6,activation='relu'),\n",
        "    tf.keras.layers.Dense(1,activation='sigmoid')\n",
        "])\n",
        "\n",
        "model_cnn.compile(\n",
        "    loss='binary_crossentropy',\n",
        "    optimizer=\"adam\",\n",
        "    metrics=['accuracy']\n",
        ")"
      ],
      "execution_count": 16,
      "outputs": []
    },
    {
      "cell_type": "code",
      "metadata": {
        "id": "Bnbdh1Gjq9lI",
        "colab_type": "code",
        "colab": {
          "base_uri": "https://localhost:8080/",
          "height": 1000
        },
        "outputId": "d41bbff0-9da8-4020-e065-dfa8cec040c0"
      },
      "source": [
        "model_cnn.summary()\n",
        "history=model_cnn.fit(training_padded,training_labels_final,\n",
        "                    epochs=num_epochs,\n",
        "                    validation_data=(validation_padded,validation_labels_final))\n",
        "\n",
        "plot_graphs(history,'accuracy')\n",
        "plot_graphs(history,'loss')\n",
        "predict_review(model_cnn,new_reviews)"
      ],
      "execution_count": 17,
      "outputs": [
        {
          "output_type": "stream",
          "text": [
            "Model: \"sequential_1\"\n",
            "_________________________________________________________________\n",
            "Layer (type)                 Output Shape              Param #   \n",
            "=================================================================\n",
            "embedding_1 (Embedding)      (None, 50, 16)            64000     \n",
            "_________________________________________________________________\n",
            "conv1d (Conv1D)              (None, 46, 128)           10368     \n",
            "_________________________________________________________________\n",
            "global_average_pooling1d_1 ( (None, 128)               0         \n",
            "_________________________________________________________________\n",
            "dense_2 (Dense)              (None, 6)                 774       \n",
            "_________________________________________________________________\n",
            "dense_3 (Dense)              (None, 1)                 7         \n",
            "=================================================================\n",
            "Total params: 75,149\n",
            "Trainable params: 75,149\n",
            "Non-trainable params: 0\n",
            "_________________________________________________________________\n",
            "Epoch 1/30\n",
            "2105/2105 [==============================] - 12s 6ms/step - loss: 0.4859 - accuracy: 0.7519 - val_loss: 0.4664 - val_accuracy: 0.7982\n",
            "Epoch 2/30\n",
            "2105/2105 [==============================] - 12s 6ms/step - loss: 0.3413 - accuracy: 0.8398 - val_loss: 0.5035 - val_accuracy: 0.7913\n",
            "Epoch 3/30\n",
            "2105/2105 [==============================] - 12s 6ms/step - loss: 0.3096 - accuracy: 0.8532 - val_loss: 0.5414 - val_accuracy: 0.7901\n",
            "Epoch 4/30\n",
            "2105/2105 [==============================] - 12s 6ms/step - loss: 0.2872 - accuracy: 0.8643 - val_loss: 0.5910 - val_accuracy: 0.7787\n",
            "Epoch 5/30\n",
            "2105/2105 [==============================] - 12s 6ms/step - loss: 0.2661 - accuracy: 0.8729 - val_loss: 0.5850 - val_accuracy: 0.7844\n",
            "Epoch 6/30\n",
            "2105/2105 [==============================] - 12s 6ms/step - loss: 0.2480 - accuracy: 0.8807 - val_loss: 0.6259 - val_accuracy: 0.7970\n",
            "Epoch 7/30\n",
            "2105/2105 [==============================] - 12s 6ms/step - loss: 0.2328 - accuracy: 0.8855 - val_loss: 0.6663 - val_accuracy: 0.7970\n",
            "Epoch 8/30\n",
            "2105/2105 [==============================] - 12s 6ms/step - loss: 0.2193 - accuracy: 0.8918 - val_loss: 0.7017 - val_accuracy: 0.7867\n",
            "Epoch 9/30\n",
            "2105/2105 [==============================] - 12s 6ms/step - loss: 0.2095 - accuracy: 0.8950 - val_loss: 0.7705 - val_accuracy: 0.7947\n",
            "Epoch 10/30\n",
            "2105/2105 [==============================] - 12s 6ms/step - loss: 0.1995 - accuracy: 0.9001 - val_loss: 0.8072 - val_accuracy: 0.7959\n",
            "Epoch 11/30\n",
            "2105/2105 [==============================] - 12s 6ms/step - loss: 0.1919 - accuracy: 0.9026 - val_loss: 0.8340 - val_accuracy: 0.7890\n",
            "Epoch 12/30\n",
            "2105/2105 [==============================] - 12s 6ms/step - loss: 0.1847 - accuracy: 0.9054 - val_loss: 0.8645 - val_accuracy: 0.7821\n",
            "Epoch 13/30\n",
            "2105/2105 [==============================] - 12s 6ms/step - loss: 0.1786 - accuracy: 0.9092 - val_loss: 0.8956 - val_accuracy: 0.7798\n",
            "Epoch 14/30\n",
            "2105/2105 [==============================] - 12s 6ms/step - loss: 0.1732 - accuracy: 0.9108 - val_loss: 0.8976 - val_accuracy: 0.7798\n",
            "Epoch 15/30\n",
            "2105/2105 [==============================] - 12s 6ms/step - loss: 0.1682 - accuracy: 0.9133 - val_loss: 0.9556 - val_accuracy: 0.7775\n",
            "Epoch 16/30\n",
            "2105/2105 [==============================] - 12s 6ms/step - loss: 0.1641 - accuracy: 0.9152 - val_loss: 1.0045 - val_accuracy: 0.7695\n",
            "Epoch 17/30\n",
            "2105/2105 [==============================] - 12s 6ms/step - loss: 0.1598 - accuracy: 0.9163 - val_loss: 1.0374 - val_accuracy: 0.7764\n",
            "Epoch 18/30\n",
            "2105/2105 [==============================] - 12s 6ms/step - loss: 0.1559 - accuracy: 0.9178 - val_loss: 1.0725 - val_accuracy: 0.7661\n",
            "Epoch 19/30\n",
            "2105/2105 [==============================] - 12s 6ms/step - loss: 0.1526 - accuracy: 0.9189 - val_loss: 1.0580 - val_accuracy: 0.7661\n",
            "Epoch 20/30\n",
            "2105/2105 [==============================] - 12s 6ms/step - loss: 0.1487 - accuracy: 0.9207 - val_loss: 1.1360 - val_accuracy: 0.7615\n",
            "Epoch 21/30\n",
            "2105/2105 [==============================] - 12s 6ms/step - loss: 0.1453 - accuracy: 0.9216 - val_loss: 1.1937 - val_accuracy: 0.7661\n",
            "Epoch 22/30\n",
            "2105/2105 [==============================] - 12s 6ms/step - loss: 0.1423 - accuracy: 0.9239 - val_loss: 1.2150 - val_accuracy: 0.7764\n",
            "Epoch 23/30\n",
            "2105/2105 [==============================] - 12s 6ms/step - loss: 0.1393 - accuracy: 0.9249 - val_loss: 1.3219 - val_accuracy: 0.7718\n",
            "Epoch 24/30\n",
            "2105/2105 [==============================] - 12s 6ms/step - loss: 0.1372 - accuracy: 0.9251 - val_loss: 1.2447 - val_accuracy: 0.7615\n",
            "Epoch 25/30\n",
            "2105/2105 [==============================] - 13s 6ms/step - loss: 0.1345 - accuracy: 0.9263 - val_loss: 1.3710 - val_accuracy: 0.7626\n",
            "Epoch 26/30\n",
            "2105/2105 [==============================] - 12s 6ms/step - loss: 0.1320 - accuracy: 0.9269 - val_loss: 1.3858 - val_accuracy: 0.7718\n",
            "Epoch 27/30\n",
            "2105/2105 [==============================] - 12s 6ms/step - loss: 0.1304 - accuracy: 0.9277 - val_loss: 1.4345 - val_accuracy: 0.7718\n",
            "Epoch 28/30\n",
            "2105/2105 [==============================] - 12s 6ms/step - loss: 0.1281 - accuracy: 0.9289 - val_loss: 1.4498 - val_accuracy: 0.7718\n",
            "Epoch 29/30\n",
            "2105/2105 [==============================] - 12s 6ms/step - loss: 0.1263 - accuracy: 0.9291 - val_loss: 1.4725 - val_accuracy: 0.7695\n",
            "Epoch 30/30\n",
            "2105/2105 [==============================] - 12s 6ms/step - loss: 0.1243 - accuracy: 0.9303 - val_loss: 1.5528 - val_accuracy: 0.7706\n"
          ],
          "name": "stdout"
        },
        {
          "output_type": "display_data",
          "data": {
            "image/png": "[encoded data removed]",
            "text/plain": [
              "<Figure size 432x288 with 1 Axes>"
            ]
          },
          "metadata": {
            "tags": [],
            "needs_background": "light"
          }
        },
        {
          "output_type": "display_data",
          "data": {
            "image/png": "[encoded data removed]",
            "text/plain": [
              "<Figure size 432x288 with 1 Axes>"
            ]
          },
          "metadata": {
            "tags": [],
            "needs_background": "light"
          }
        },
        {
          "output_type": "stream",
          "text": [
            "I loved this movie\n",
            "[0.9999913]\n",
            "\n",
            "that was the worst movie I've ever seen\n",
            "[3.524681e-05]\n",
            "\n",
            "too much violence even for a Bond Film\n",
            "[0.12253091]\n",
            "\n",
            "a captivating recounting of a cherished myths\n",
            "[0.9999957]\n",
            "\n"
          ],
          "name": "stdout"
        }
      ]
    },
    {
      "cell_type": "code",
      "metadata": {
        "id": "CtbvHS4GsqP1",
        "colab_type": "code",
        "colab": {}
      },
      "source": [
        "model_gru=tf.keras.Sequential([\n",
        "              tf.keras.layers.Embedding(vocab_size,embedding_dim,input_length=max_length),\n",
        "              tf.keras.layers.Bidirectional(tf.keras.layers.GRU(32)),\n",
        "              tf.keras.layers.Dense(6,activation='relu'),\n",
        "              tf.keras.layers.Dense(1,activation='sigmoid')\n",
        "])\n",
        "model_gru.compile(\n",
        "    loss='binary_crossentropy',\n",
        "    optimizer='adam',\n",
        "    metrics=['accuracy']\n",
        ")"
      ],
      "execution_count": 21,
      "outputs": []
    },
    {
      "cell_type": "code",
      "metadata": {
        "id": "adlvjR6UswkV",
        "colab_type": "code",
        "colab": {
          "base_uri": "https://localhost:8080/",
          "height": 1000
        },
        "outputId": "d6a954a2-cff9-4472-ad53-7247ad13cb6d"
      },
      "source": [
        "model_gru.summary()\n",
        "history=model_gru.fit(training_padded,training_labels_final,\n",
        "                    epochs=num_epochs,\n",
        "                    validation_data=(validation_padded,validation_labels_final))\n",
        "\n",
        "plot_graphs(history,'accuracy')\n",
        "plot_graphs(history,'loss')\n",
        "predict_review(model_gru,new_reviews)"
      ],
      "execution_count": 22,
      "outputs": [
        {
          "output_type": "stream",
          "text": [
            "Model: \"sequential_4\"\n",
            "_________________________________________________________________\n",
            "Layer (type)                 Output Shape              Param #   \n",
            "=================================================================\n",
            "embedding_4 (Embedding)      (None, 50, 16)            64000     \n",
            "_________________________________________________________________\n",
            "bidirectional_2 (Bidirection (None, 64)                9600      \n",
            "_________________________________________________________________\n",
            "dense_8 (Dense)              (None, 6)                 390       \n",
            "_________________________________________________________________\n",
            "dense_9 (Dense)              (None, 1)                 7         \n",
            "=================================================================\n",
            "Total params: 73,997\n",
            "Trainable params: 73,997\n",
            "Non-trainable params: 0\n",
            "_________________________________________________________________\n",
            "Epoch 1/30\n",
            "2105/2105 [==============================] - 49s 23ms/step - loss: 0.4246 - accuracy: 0.7844 - val_loss: 0.4276 - val_accuracy: 0.8108\n",
            "Epoch 2/30\n",
            "2105/2105 [==============================] - 48s 23ms/step - loss: 0.3163 - accuracy: 0.8475 - val_loss: 0.4548 - val_accuracy: 0.8154\n",
            "Epoch 3/30\n",
            "2105/2105 [==============================] - 49s 23ms/step - loss: 0.2863 - accuracy: 0.8611 - val_loss: 0.5110 - val_accuracy: 0.8039\n",
            "Epoch 4/30\n",
            "2105/2105 [==============================] - 48s 23ms/step - loss: 0.2689 - accuracy: 0.8696 - val_loss: 0.5082 - val_accuracy: 0.8005\n",
            "Epoch 5/30\n",
            "2105/2105 [==============================] - 48s 23ms/step - loss: 0.2503 - accuracy: 0.8768 - val_loss: 0.6207 - val_accuracy: 0.7878\n",
            "Epoch 6/30\n",
            "2105/2105 [==============================] - 48s 23ms/step - loss: 0.2352 - accuracy: 0.8834 - val_loss: 0.6854 - val_accuracy: 0.7901\n",
            "Epoch 7/30\n",
            "2105/2105 [==============================] - 48s 23ms/step - loss: 0.2229 - accuracy: 0.8878 - val_loss: 0.6518 - val_accuracy: 0.7901\n",
            "Epoch 8/30\n",
            "2105/2105 [==============================] - 49s 23ms/step - loss: 0.2104 - accuracy: 0.8936 - val_loss: 0.7285 - val_accuracy: 0.7810\n",
            "Epoch 9/30\n",
            "2105/2105 [==============================] - 49s 23ms/step - loss: 0.1999 - accuracy: 0.8989 - val_loss: 0.7311 - val_accuracy: 0.7764\n",
            "Epoch 10/30\n",
            "2105/2105 [==============================] - 49s 23ms/step - loss: 0.1905 - accuracy: 0.9014 - val_loss: 0.7787 - val_accuracy: 0.7787\n",
            "Epoch 11/30\n",
            "2105/2105 [==============================] - 48s 23ms/step - loss: 0.1825 - accuracy: 0.9046 - val_loss: 0.8721 - val_accuracy: 0.7764\n",
            "Epoch 12/30\n",
            "2105/2105 [==============================] - 48s 23ms/step - loss: 0.1751 - accuracy: 0.9080 - val_loss: 0.9485 - val_accuracy: 0.7683\n",
            "Epoch 13/30\n",
            "2105/2105 [==============================] - 48s 23ms/step - loss: 0.1684 - accuracy: 0.9107 - val_loss: 0.9668 - val_accuracy: 0.7626\n",
            "Epoch 14/30\n",
            "2105/2105 [==============================] - 48s 23ms/step - loss: 0.1620 - accuracy: 0.9149 - val_loss: 1.0172 - val_accuracy: 0.7718\n",
            "Epoch 15/30\n",
            "2105/2105 [==============================] - 48s 23ms/step - loss: 0.1572 - accuracy: 0.9162 - val_loss: 1.0648 - val_accuracy: 0.7683\n",
            "Epoch 16/30\n",
            "2105/2105 [==============================] - 48s 23ms/step - loss: 0.1512 - accuracy: 0.9185 - val_loss: 1.2181 - val_accuracy: 0.7672\n",
            "Epoch 17/30\n",
            "2105/2105 [==============================] - 48s 23ms/step - loss: 0.1459 - accuracy: 0.9217 - val_loss: 1.1603 - val_accuracy: 0.7603\n",
            "Epoch 18/30\n",
            "2105/2105 [==============================] - 49s 23ms/step - loss: 0.1414 - accuracy: 0.9233 - val_loss: 1.1711 - val_accuracy: 0.7626\n",
            "Epoch 19/30\n",
            "2105/2105 [==============================] - 48s 23ms/step - loss: 0.1373 - accuracy: 0.9232 - val_loss: 1.2443 - val_accuracy: 0.7546\n",
            "Epoch 20/30\n",
            "2105/2105 [==============================] - 48s 23ms/step - loss: 0.1345 - accuracy: 0.9255 - val_loss: 1.2629 - val_accuracy: 0.7500\n",
            "Epoch 21/30\n",
            "2105/2105 [==============================] - 48s 23ms/step - loss: 0.1304 - accuracy: 0.9271 - val_loss: 1.3884 - val_accuracy: 0.7511\n",
            "Epoch 22/30\n",
            "2105/2105 [==============================] - 48s 23ms/step - loss: 0.1270 - accuracy: 0.9293 - val_loss: 1.4310 - val_accuracy: 0.7443\n",
            "Epoch 23/30\n",
            "2105/2105 [==============================] - 48s 23ms/step - loss: 0.1251 - accuracy: 0.9306 - val_loss: 1.3620 - val_accuracy: 0.7454\n",
            "Epoch 24/30\n",
            "2105/2105 [==============================] - 48s 23ms/step - loss: 0.1221 - accuracy: 0.9304 - val_loss: 1.4662 - val_accuracy: 0.7580\n",
            "Epoch 25/30\n",
            "2105/2105 [==============================] - 48s 23ms/step - loss: 0.1194 - accuracy: 0.9327 - val_loss: 1.5697 - val_accuracy: 0.7489\n",
            "Epoch 26/30\n",
            "2105/2105 [==============================] - 48s 23ms/step - loss: 0.1185 - accuracy: 0.9330 - val_loss: 1.4933 - val_accuracy: 0.7523\n",
            "Epoch 27/30\n",
            "2105/2105 [==============================] - 48s 23ms/step - loss: 0.1161 - accuracy: 0.9335 - val_loss: 1.5701 - val_accuracy: 0.7500\n",
            "Epoch 28/30\n",
            "2105/2105 [==============================] - 48s 23ms/step - loss: 0.1134 - accuracy: 0.9340 - val_loss: 1.4972 - val_accuracy: 0.7489\n",
            "Epoch 29/30\n",
            "2105/2105 [==============================] - 47s 23ms/step - loss: 0.1121 - accuracy: 0.9349 - val_loss: 1.6403 - val_accuracy: 0.7408\n",
            "Epoch 30/30\n",
            "2105/2105 [==============================] - 47s 23ms/step - loss: 0.1102 - accuracy: 0.9361 - val_loss: 1.6509 - val_accuracy: 0.7511\n"
          ],
          "name": "stdout"
        },
        {
          "output_type": "display_data",
          "data": {
            "image/png": "[encoded data removed]",
            "text/plain": [
              "<Figure size 432x288 with 1 Axes>"
            ]
          },
          "metadata": {
            "tags": [],
            "needs_background": "light"
          }
        },
        {
          "output_type": "display_data",
          "data": {
            "image/png": "[encoded data removed]",
            "text/plain": [
              "<Figure size 432x288 with 1 Axes>"
            ]
          },
          "metadata": {
            "tags": [],
            "needs_background": "light"
          }
        },
        {
          "output_type": "stream",
          "text": [
            "I loved this movie\n",
            "[1.]\n",
            "\n",
            "that was the worst movie I've ever seen\n",
            "[2.6068146e-06]\n",
            "\n",
            "too much violence even for a Bond Film\n",
            "[0.49273545]\n",
            "\n",
            "a captivating recounting of a cherished myths\n",
            "[0.9999995]\n",
            "\n"
          ],
          "name": "stdout"
        }
      ]
    },
    {
      "cell_type": "code",
      "metadata": {
        "id": "Kes4EIIlteuH",
        "colab_type": "code",
        "colab": {}
      },
      "source": [
        "model_bidi_lstm=tf.keras.Sequential([\n",
        "              tf.keras.layers.Embedding(vocab_size,embedding_dim,input_length=max_length),\n",
        "              tf.keras.layers.Bidirectional(tf.keras.layers.LSTM(embedding_dim)),\n",
        "              tf.keras.layers.Dense(6,activation='relu'),\n",
        "              tf.keras.layers.Dense(1,activation='sigmoid')\n",
        "])\n",
        "model_bidi_lstm.compile(\n",
        "    loss='binary_crossentropy',\n",
        "    optimizer='adam',\n",
        "    metrics=['accuracy']\n",
        ")"
      ],
      "execution_count": 25,
      "outputs": []
    },
    {
      "cell_type": "code",
      "metadata": {
        "id": "JJnJB6oDtkrs",
        "colab_type": "code",
        "colab": {
          "base_uri": "https://localhost:8080/",
          "height": 1000
        },
        "outputId": "e02bd1ca-c568-4721-f868-9f41b962ea43"
      },
      "source": [
        "model_bidi_lstm.summary()\n",
        "history=model_bidi_lstm.fit(training_padded,training_labels_final,\n",
        "                    epochs=num_epochs,\n",
        "                    validation_data=(validation_padded,validation_labels_final))\n",
        "\n",
        "plot_graphs(history,'accuracy')\n",
        "plot_graphs(history,'loss')\n",
        "predict_review(model_bidi_lstm,new_reviews)\n"
      ],
      "execution_count": 26,
      "outputs": [
        {
          "output_type": "stream",
          "text": [
            "Model: \"sequential_5\"\n",
            "_________________________________________________________________\n",
            "Layer (type)                 Output Shape              Param #   \n",
            "=================================================================\n",
            "embedding_6 (Embedding)      (None, 50, 16)            64000     \n",
            "_________________________________________________________________\n",
            "bidirectional_3 (Bidirection (None, 32)                4224      \n",
            "_________________________________________________________________\n",
            "dense_10 (Dense)             (None, 6)                 198       \n",
            "_________________________________________________________________\n",
            "dense_11 (Dense)             (None, 1)                 7         \n",
            "=================================================================\n",
            "Total params: 68,429\n",
            "Trainable params: 68,429\n",
            "Non-trainable params: 0\n",
            "_________________________________________________________________\n",
            "Epoch 1/30\n",
            "2105/2105 [==============================] - 47s 23ms/step - loss: 0.4369 - accuracy: 0.7786 - val_loss: 0.4749 - val_accuracy: 0.8085\n",
            "Epoch 2/30\n",
            "2105/2105 [==============================] - 47s 22ms/step - loss: 0.3290 - accuracy: 0.8432 - val_loss: 0.4694 - val_accuracy: 0.8050\n",
            "Epoch 3/30\n",
            "2105/2105 [==============================] - 47s 22ms/step - loss: 0.2950 - accuracy: 0.8581 - val_loss: 0.4989 - val_accuracy: 0.8142\n",
            "Epoch 4/30\n",
            "2105/2105 [==============================] - 47s 22ms/step - loss: 0.2662 - accuracy: 0.8701 - val_loss: 0.5300 - val_accuracy: 0.8096\n",
            "Epoch 5/30\n",
            "2105/2105 [==============================] - 47s 22ms/step - loss: 0.2464 - accuracy: 0.8796 - val_loss: 0.5976 - val_accuracy: 0.8108\n",
            "Epoch 6/30\n",
            "2105/2105 [==============================] - 47s 22ms/step - loss: 0.2318 - accuracy: 0.8854 - val_loss: 0.6208 - val_accuracy: 0.7959\n",
            "Epoch 7/30\n",
            "2105/2105 [==============================] - 47s 22ms/step - loss: 0.2173 - accuracy: 0.8911 - val_loss: 0.6513 - val_accuracy: 0.7856\n",
            "Epoch 8/30\n",
            "2105/2105 [==============================] - 47s 22ms/step - loss: 0.2066 - accuracy: 0.8946 - val_loss: 0.7164 - val_accuracy: 0.7844\n",
            "Epoch 9/30\n",
            "2105/2105 [==============================] - 47s 22ms/step - loss: 0.1959 - accuracy: 0.8997 - val_loss: 0.7441 - val_accuracy: 0.7890\n",
            "Epoch 10/30\n",
            "2105/2105 [==============================] - 47s 22ms/step - loss: 0.1860 - accuracy: 0.9026 - val_loss: 0.7660 - val_accuracy: 0.7810\n",
            "Epoch 11/30\n",
            "2105/2105 [==============================] - 47s 22ms/step - loss: 0.1779 - accuracy: 0.9062 - val_loss: 0.8842 - val_accuracy: 0.7844\n",
            "Epoch 12/30\n",
            "2105/2105 [==============================] - 47s 22ms/step - loss: 0.1707 - accuracy: 0.9097 - val_loss: 0.8863 - val_accuracy: 0.7833\n",
            "Epoch 13/30\n",
            "2105/2105 [==============================] - 48s 23ms/step - loss: 0.1651 - accuracy: 0.9125 - val_loss: 0.9534 - val_accuracy: 0.7867\n",
            "Epoch 14/30\n",
            "2105/2105 [==============================] - 47s 22ms/step - loss: 0.1596 - accuracy: 0.9146 - val_loss: 0.9824 - val_accuracy: 0.7706\n",
            "Epoch 15/30\n",
            "2105/2105 [==============================] - 47s 22ms/step - loss: 0.1547 - accuracy: 0.9160 - val_loss: 0.9710 - val_accuracy: 0.7798\n",
            "Epoch 16/30\n",
            "2105/2105 [==============================] - 47s 22ms/step - loss: 0.1501 - accuracy: 0.9179 - val_loss: 1.0868 - val_accuracy: 0.7626\n",
            "Epoch 17/30\n",
            "2105/2105 [==============================] - 48s 23ms/step - loss: 0.1457 - accuracy: 0.9198 - val_loss: 1.1202 - val_accuracy: 0.7569\n",
            "Epoch 18/30\n",
            "2105/2105 [==============================] - 47s 22ms/step - loss: 0.1416 - accuracy: 0.9218 - val_loss: 1.1186 - val_accuracy: 0.7856\n",
            "Epoch 19/30\n",
            "2105/2105 [==============================] - 47s 22ms/step - loss: 0.1378 - accuracy: 0.9218 - val_loss: 1.1883 - val_accuracy: 0.7775\n",
            "Epoch 20/30\n",
            "2105/2105 [==============================] - 47s 22ms/step - loss: 0.1355 - accuracy: 0.9251 - val_loss: 1.1153 - val_accuracy: 0.7752\n",
            "Epoch 21/30\n",
            "2105/2105 [==============================] - 47s 22ms/step - loss: 0.1322 - accuracy: 0.9252 - val_loss: 1.3128 - val_accuracy: 0.7741\n",
            "Epoch 22/30\n",
            "2105/2105 [==============================] - 47s 22ms/step - loss: 0.1301 - accuracy: 0.9270 - val_loss: 1.2717 - val_accuracy: 0.7649\n",
            "Epoch 23/30\n",
            "2105/2105 [==============================] - 47s 22ms/step - loss: 0.1273 - accuracy: 0.9275 - val_loss: 1.4277 - val_accuracy: 0.7569\n",
            "Epoch 24/30\n",
            "2105/2105 [==============================] - 47s 22ms/step - loss: 0.1249 - accuracy: 0.9293 - val_loss: 1.3564 - val_accuracy: 0.7466\n",
            "Epoch 25/30\n",
            "2105/2105 [==============================] - 47s 22ms/step - loss: 0.1216 - accuracy: 0.9297 - val_loss: 1.3798 - val_accuracy: 0.7511\n",
            "Epoch 26/30\n",
            "2105/2105 [==============================] - 47s 22ms/step - loss: 0.1208 - accuracy: 0.9312 - val_loss: 1.4247 - val_accuracy: 0.7615\n",
            "Epoch 27/30\n",
            "2105/2105 [==============================] - 47s 22ms/step - loss: 0.1187 - accuracy: 0.9318 - val_loss: 1.4787 - val_accuracy: 0.7638\n",
            "Epoch 28/30\n",
            "2105/2105 [==============================] - 47s 22ms/step - loss: 0.1171 - accuracy: 0.9331 - val_loss: 1.5358 - val_accuracy: 0.7638\n",
            "Epoch 29/30\n",
            "2105/2105 [==============================] - 47s 22ms/step - loss: 0.1152 - accuracy: 0.9329 - val_loss: 1.4738 - val_accuracy: 0.7580\n",
            "Epoch 30/30\n",
            "2105/2105 [==============================] - 47s 22ms/step - loss: 0.1132 - accuracy: 0.9341 - val_loss: 1.5545 - val_accuracy: 0.7534\n"
          ],
          "name": "stdout"
        },
        {
          "output_type": "display_data",
          "data": {
            "image/png": "[encoded data removed]",
            "text/plain": [
              "<Figure size 432x288 with 1 Axes>"
            ]
          },
          "metadata": {
            "tags": [],
            "needs_background": "light"
          }
        },
        {
          "output_type": "display_data",
          "data": {
            "image/png": "[encoded data removed]",
            "text/plain": [
              "<Figure size 432x288 with 1 Axes>"
            ]
          },
          "metadata": {
            "tags": [],
            "needs_background": "light"
          }
        },
        {
          "output_type": "stream",
          "text": [
            "I loved this movie\n",
            "[0.9995623]\n",
            "\n",
            "that was the worst movie I've ever seen\n",
            "[0.00055867]\n",
            "\n",
            "too much violence even for a Bond Film\n",
            "[1.0863686e-06]\n",
            "\n",
            "a captivating recounting of a cherished myths\n",
            "[0.999749]\n",
            "\n"
          ],
          "name": "stdout"
        }
      ]
    },
    {
      "cell_type": "code",
      "metadata": {
        "id": "nmjc8kIbxPLs",
        "colab_type": "code",
        "colab": {}
      },
      "source": [
        "model_multi_bidi_lstm=tf.keras.Sequential([\n",
        "              tf.keras.layers.Embedding(vocab_size,embedding_dim,input_length=max_length),\n",
        "              tf.keras.layers.Bidirectional(tf.keras.layers.LSTM(embedding_dim,return_sequences=True)),\n",
        "              tf.keras.layers.Bidirectional(tf.keras.layers.LSTM(embedding_dim)),\n",
        "              tf.keras.layers.Dense(6,activation='relu'),\n",
        "              tf.keras.layers.Dense(1,activation='sigmoid')\n",
        "])\n",
        "model_multi_bidi_lstm.compile(\n",
        "    loss='binary_crossentropy',\n",
        "    optimizer='adam',\n",
        "    metrics=['accuracy']\n",
        ")\n"
      ],
      "execution_count": 28,
      "outputs": []
    },
    {
      "cell_type": "code",
      "metadata": {
        "id": "eeNO9oTlxPI3",
        "colab_type": "code",
        "colab": {
          "base_uri": "https://localhost:8080/",
          "height": 1000
        },
        "outputId": "9188aea5-d6d2-4ee1-9bc1-44cb7d0a9f09"
      },
      "source": [
        "model_multi_bidi_lstm.summary()\n",
        "history=model_multi_bidi_lstm.fit(training_padded,training_labels_final,\n",
        "                    epochs=num_epochs,\n",
        "                    validation_data=(validation_padded,validation_labels_final))\n",
        "\n",
        "plot_graphs(history,'accuracy')\n",
        "plot_graphs(history,'loss')\n",
        "predict_review(model_multi_bidi_lstm,new_reviews)\n"
      ],
      "execution_count": 29,
      "outputs": [
        {
          "output_type": "stream",
          "text": [
            "Model: \"sequential_6\"\n",
            "_________________________________________________________________\n",
            "Layer (type)                 Output Shape              Param #   \n",
            "=================================================================\n",
            "embedding_7 (Embedding)      (None, 50, 16)            64000     \n",
            "_________________________________________________________________\n",
            "bidirectional_4 (Bidirection (None, 50, 32)            4224      \n",
            "_________________________________________________________________\n",
            "bidirectional_5 (Bidirection (None, 32)                6272      \n",
            "_________________________________________________________________\n",
            "dense_12 (Dense)             (None, 6)                 198       \n",
            "_________________________________________________________________\n",
            "dense_13 (Dense)             (None, 1)                 7         \n",
            "=================================================================\n",
            "Total params: 74,701\n",
            "Trainable params: 74,701\n",
            "Non-trainable params: 0\n",
            "_________________________________________________________________\n",
            "Epoch 1/30\n",
            "2105/2105 [==============================] - 101s 48ms/step - loss: 0.4760 - accuracy: 0.7705 - val_loss: 0.4570 - val_accuracy: 0.7901\n",
            "Epoch 2/30\n",
            "2105/2105 [==============================] - 100s 47ms/step - loss: 0.3361 - accuracy: 0.8425 - val_loss: 0.4810 - val_accuracy: 0.8016\n",
            "Epoch 3/30\n",
            "2105/2105 [==============================] - 99s 47ms/step - loss: 0.2937 - accuracy: 0.8601 - val_loss: 0.5394 - val_accuracy: 0.8016\n",
            "Epoch 4/30\n",
            "2105/2105 [==============================] - 100s 47ms/step - loss: 0.2642 - accuracy: 0.8706 - val_loss: 0.6070 - val_accuracy: 0.7924\n",
            "Epoch 5/30\n",
            "2105/2105 [==============================] - 99s 47ms/step - loss: 0.2400 - accuracy: 0.8805 - val_loss: 0.6460 - val_accuracy: 0.7947\n",
            "Epoch 6/30\n",
            "2105/2105 [==============================] - 99s 47ms/step - loss: 0.2232 - accuracy: 0.8861 - val_loss: 0.6463 - val_accuracy: 0.7924\n",
            "Epoch 7/30\n",
            "2105/2105 [==============================] - 99s 47ms/step - loss: 0.2094 - accuracy: 0.8932 - val_loss: 0.6703 - val_accuracy: 0.7821\n",
            "Epoch 8/30\n",
            "2105/2105 [==============================] - 100s 47ms/step - loss: 0.1972 - accuracy: 0.8983 - val_loss: 0.6753 - val_accuracy: 0.7936\n",
            "Epoch 9/30\n",
            "2105/2105 [==============================] - 100s 48ms/step - loss: 0.1871 - accuracy: 0.9013 - val_loss: 0.8200 - val_accuracy: 0.7878\n",
            "Epoch 10/30\n",
            "2105/2105 [==============================] - 101s 48ms/step - loss: 0.1790 - accuracy: 0.9045 - val_loss: 0.8402 - val_accuracy: 0.7729\n",
            "Epoch 11/30\n",
            "2105/2105 [==============================] - 101s 48ms/step - loss: 0.1714 - accuracy: 0.9075 - val_loss: 0.9191 - val_accuracy: 0.7729\n",
            "Epoch 12/30\n",
            "2105/2105 [==============================] - 100s 48ms/step - loss: 0.1639 - accuracy: 0.9101 - val_loss: 0.8307 - val_accuracy: 0.7878\n",
            "Epoch 13/30\n",
            "2105/2105 [==============================] - 100s 47ms/step - loss: 0.1591 - accuracy: 0.9124 - val_loss: 0.9378 - val_accuracy: 0.7695\n",
            "Epoch 14/30\n",
            "2105/2105 [==============================] - 99s 47ms/step - loss: 0.1545 - accuracy: 0.9132 - val_loss: 0.9722 - val_accuracy: 0.7959\n",
            "Epoch 15/30\n",
            "2105/2105 [==============================] - 100s 47ms/step - loss: 0.1498 - accuracy: 0.9158 - val_loss: 1.0324 - val_accuracy: 0.7752\n",
            "Epoch 16/30\n",
            "2105/2105 [==============================] - 100s 48ms/step - loss: 0.1460 - accuracy: 0.9170 - val_loss: 1.0680 - val_accuracy: 0.7798\n",
            "Epoch 17/30\n",
            "2105/2105 [==============================] - 100s 48ms/step - loss: 0.1412 - accuracy: 0.9205 - val_loss: 1.0639 - val_accuracy: 0.7867\n",
            "Epoch 18/30\n",
            "2105/2105 [==============================] - 101s 48ms/step - loss: 0.1390 - accuracy: 0.9209 - val_loss: 1.1214 - val_accuracy: 0.7810\n",
            "Epoch 19/30\n",
            "2105/2105 [==============================] - 101s 48ms/step - loss: 0.1341 - accuracy: 0.9230 - val_loss: 1.0994 - val_accuracy: 0.7810\n",
            "Epoch 20/30\n",
            "2105/2105 [==============================] - 101s 48ms/step - loss: 0.1336 - accuracy: 0.9246 - val_loss: 1.2121 - val_accuracy: 0.7764\n",
            "Epoch 21/30\n",
            "2105/2105 [==============================] - 101s 48ms/step - loss: 0.1300 - accuracy: 0.9236 - val_loss: 1.1154 - val_accuracy: 0.7890\n",
            "Epoch 22/30\n",
            "2105/2105 [==============================] - 100s 47ms/step - loss: 0.1275 - accuracy: 0.9267 - val_loss: 1.2445 - val_accuracy: 0.7856\n",
            "Epoch 23/30\n",
            "2105/2105 [==============================] - 100s 47ms/step - loss: 0.1245 - accuracy: 0.9273 - val_loss: 1.2634 - val_accuracy: 0.7729\n",
            "Epoch 24/30\n",
            "2105/2105 [==============================] - 100s 47ms/step - loss: 0.1227 - accuracy: 0.9277 - val_loss: 1.3088 - val_accuracy: 0.7729\n",
            "Epoch 25/30\n",
            "2105/2105 [==============================] - 100s 47ms/step - loss: 0.1209 - accuracy: 0.9290 - val_loss: 1.2960 - val_accuracy: 0.7764\n",
            "Epoch 26/30\n",
            "2105/2105 [==============================] - 100s 48ms/step - loss: 0.1188 - accuracy: 0.9295 - val_loss: 1.3178 - val_accuracy: 0.7798\n",
            "Epoch 27/30\n",
            "2105/2105 [==============================] - 101s 48ms/step - loss: 0.1174 - accuracy: 0.9301 - val_loss: 1.5238 - val_accuracy: 0.7718\n",
            "Epoch 28/30\n",
            "2105/2105 [==============================] - 101s 48ms/step - loss: 0.1148 - accuracy: 0.9308 - val_loss: 1.4844 - val_accuracy: 0.7615\n",
            "Epoch 29/30\n",
            "2105/2105 [==============================] - 101s 48ms/step - loss: 0.1140 - accuracy: 0.9318 - val_loss: 1.4486 - val_accuracy: 0.7603\n",
            "Epoch 30/30\n",
            "2105/2105 [==============================] - 101s 48ms/step - loss: 0.1126 - accuracy: 0.9318 - val_loss: 1.5829 - val_accuracy: 0.7626\n"
          ],
          "name": "stdout"
        },
        {
          "output_type": "display_data",
          "data": {
            "image/png": "[encoded data removed]",
            "text/plain": [
              "<Figure size 432x288 with 1 Axes>"
            ]
          },
          "metadata": {
            "tags": [],
            "needs_background": "light"
          }
        },
        {
          "output_type": "display_data",
          "data": {
            "image/png": "[encoded data removed]",
            "text/plain": [
              "<Figure size 432x288 with 1 Axes>"
            ]
          },
          "metadata": {
            "tags": [],
            "needs_background": "light"
          }
        },
        {
          "output_type": "stream",
          "text": [
            "I loved this movie\n",
            "[0.99999666]\n",
            "\n",
            "that was the worst movie I've ever seen\n",
            "[9.273214e-06]\n",
            "\n",
            "too much violence even for a Bond Film\n",
            "[0.00015981]\n",
            "\n",
            "a captivating recounting of a cherished myths\n",
            "[0.9999993]\n",
            "\n"
          ],
          "name": "stdout"
        }
      ]
    },
    {
      "cell_type": "code",
      "metadata": {
        "id": "0cKiT6sO4k6O",
        "colab_type": "code",
        "colab": {}
      },
      "source": [
        "model.save('model_embedding.h5')"
      ],
      "execution_count": 30,
      "outputs": []
    },
    {
      "cell_type": "code",
      "metadata": {
        "id": "UYnhuzH0ESIL",
        "colab_type": "code",
        "colab": {}
      },
      "source": [
        "model_cnn.save('model_cnn.h5')"
      ],
      "execution_count": 31,
      "outputs": []
    },
    {
      "cell_type": "code",
      "metadata": {
        "id": "L4BnV7tlEWX2",
        "colab_type": "code",
        "colab": {}
      },
      "source": [
        "model_gru.save('model_gru.h5')"
      ],
      "execution_count": 32,
      "outputs": []
    },
    {
      "cell_type": "code",
      "metadata": {
        "id": "yYPNPfmTEblX",
        "colab_type": "code",
        "colab": {}
      },
      "source": [
        "model_bidi_lstm.save('model_bidi_lstm.h5')"
      ],
      "execution_count": 33,
      "outputs": []
    },
    {
      "cell_type": "code",
      "metadata": {
        "id": "8L4Fpu_lEkBe",
        "colab_type": "code",
        "colab": {}
      },
      "source": [
        "model_multi_bidi_lstm.save('model_multi_bidi_lstm.h5')"
      ],
      "execution_count": 34,
      "outputs": []
    },
    {
      "cell_type": "code",
      "metadata": {
        "id": "ISQ_FnCAEsh2",
        "colab_type": "code",
        "colab": {
          "base_uri": "https://localhost:8080/",
          "height": 910
        },
        "outputId": "212fd9f9-9354-4632-abcb-1dacfcdc8ac6"
      },
      "source": [
        "!sudo apt install tesseract-ocr\n",
        "!pip install pytesseract\n"
      ],
      "execution_count": 35,
      "outputs": [
        {
          "output_type": "stream",
          "text": [
            "Reading package lists... Done\n",
            "Building dependency tree       \n",
            "Reading state information... Done\n",
            "The following package was automatically installed and is no longer required:\n",
            "  libnvidia-common-440\n",
            "Use 'sudo apt autoremove' to remove it.\n",
            "The following additional packages will be installed:\n",
            "  tesseract-ocr-eng tesseract-ocr-osd\n",
            "The following NEW packages will be installed:\n",
            "  tesseract-ocr tesseract-ocr-eng tesseract-ocr-osd\n",
            "0 upgraded, 3 newly installed, 0 to remove and 33 not upgraded.\n",
            "Need to get 4,795 kB of archives.\n",
            "After this operation, 15.8 MB of additional disk space will be used.\n",
            "Get:1 http://archive.ubuntu.com/ubuntu bionic/universe amd64 tesseract-ocr-eng all 4.00~git24-0e00fe6-1.2 [1,588 kB]\n",
            "Get:2 http://archive.ubuntu.com/ubuntu bionic/universe amd64 tesseract-ocr-osd all 4.00~git24-0e00fe6-1.2 [2,989 kB]\n",
            "Get:3 http://archive.ubuntu.com/ubuntu bionic/universe amd64 tesseract-ocr amd64 4.00~git2288-10f4998a-2 [218 kB]\n",
            "Fetched 4,795 kB in 0s (29.2 MB/s)\n",
            "debconf: unable to initialize frontend: Dialog\n",
            "debconf: (No usable dialog-like program is installed, so the dialog based frontend cannot be used. at /usr/share/perl5/Debconf/FrontEnd/Dialog.pm line 76, <> line 3.)\n",
            "debconf: falling back to frontend: Readline\n",
            "debconf: unable to initialize frontend: Readline\n",
            "debconf: (This frontend requires a controlling tty.)\n",
            "debconf: falling back to frontend: Teletype\n",
            "dpkg-preconfigure: unable to re-open stdin: \n",
            "Selecting previously unselected package tesseract-ocr-eng.\n",
            "(Reading database ... 144379 files and directories currently installed.)\n",
            "Preparing to unpack .../tesseract-ocr-eng_4.00~git24-0e00fe6-1.2_all.deb ...\n",
            "Unpacking tesseract-ocr-eng (4.00~git24-0e00fe6-1.2) ...\n",
            "Selecting previously unselected package tesseract-ocr-osd.\n",
            "Preparing to unpack .../tesseract-ocr-osd_4.00~git24-0e00fe6-1.2_all.deb ...\n",
            "Unpacking tesseract-ocr-osd (4.00~git24-0e00fe6-1.2) ...\n",
            "Selecting previously unselected package tesseract-ocr.\n",
            "Preparing to unpack .../tesseract-ocr_4.00~git2288-10f4998a-2_amd64.deb ...\n",
            "Unpacking tesseract-ocr (4.00~git2288-10f4998a-2) ...\n",
            "Setting up tesseract-ocr-osd (4.00~git24-0e00fe6-1.2) ...\n",
            "Setting up tesseract-ocr-eng (4.00~git24-0e00fe6-1.2) ...\n",
            "Setting up tesseract-ocr (4.00~git2288-10f4998a-2) ...\n",
            "Processing triggers for man-db (2.8.3-2ubuntu0.1) ...\n",
            "Collecting pytesseract\n",
            "  Downloading https://files.pythonhosted.org/packages/1d/d8/521db389ff0aae32035bfda6ed39cb2c2e28521c47015f6431f07460c50a/pytesseract-0.3.4.tar.gz\n",
            "Requirement already satisfied: Pillow in /usr/local/lib/python3.6/dist-packages (from pytesseract) (7.0.0)\n",
            "Building wheels for collected packages: pytesseract\n",
            "  Building wheel for pytesseract (setup.py) ... \u001b[?25l\u001b[?25hdone\n",
            "  Created wheel for pytesseract: filename=pytesseract-0.3.4-py2.py3-none-any.whl size=13431 sha256=1de12fa9839e9a2791ae87d913508f0bdfdc5f178e6448a5070785dc61ed14a9\n",
            "  Stored in directory: /root/.cache/pip/wheels/63/2a/a0/7596d2e0a73cf0aeffd6f6170862c4e73f3763b7827e48691a\n",
            "Successfully built pytesseract\n",
            "Installing collected packages: pytesseract\n",
            "Successfully installed pytesseract-0.3.4\n"
          ],
          "name": "stdout"
        }
      ]
    },
    {
      "cell_type": "code",
      "metadata": {
        "id": "xVcxXCrhQdlK",
        "colab_type": "code",
        "colab": {}
      },
      "source": [
        "\n",
        "import pytesseract\n",
        "import shutil\n",
        "import os\n",
        "import random\n",
        "try:\n",
        " from PIL import Image\n",
        "except ImportError:\n",
        " import Image"
      ],
      "execution_count": 36,
      "outputs": []
    },
    {
      "cell_type": "code",
      "metadata": {
        "id": "v8A8yy2iQgtP",
        "colab_type": "code",
        "colab": {}
      },
      "source": [
        "path='/content/drive/My Drive/Dataset'\n",
        "test_data=[]\n",
        "m=dict()\n",
        "for files in os.listdir(path):\n",
        "    image_path_in_colab=os.path.join(path,files)\n",
        "    extractedInformation = pytesseract.image_to_string(Image.open(image_path_in_colab))\n",
        "    test_data.append(extractedInformation)\n",
        "    m[files]=test_data[-1]"
      ],
      "execution_count": 38,
      "outputs": []
    },
    {
      "cell_type": "code",
      "metadata": {
        "id": "94DO1QsjQl20",
        "colab_type": "code",
        "colab": {}
      },
      "source": [
        "from tensorflow.keras.preprocessing.text import Tokenizer\n",
        "from tensorflow.keras.preprocessing.sequence import pad_sequences\n"
      ],
      "execution_count": 39,
      "outputs": []
    },
    {
      "cell_type": "code",
      "metadata": {
        "id": "xAhXKt-CQqsX",
        "colab_type": "code",
        "colab": {}
      },
      "source": [
        "tokenizer=Tokenizer(num_words=4000,oov_token='<OOV>')\n",
        "tokenizer.fit_on_texts(test_data)\n",
        "\n",
        "word_index=tokenizer.word_index"
      ],
      "execution_count": 42,
      "outputs": []
    },
    {
      "cell_type": "code",
      "metadata": {
        "id": "SIncsZ-pRRFo",
        "colab_type": "code",
        "colab": {}
      },
      "source": [
        "padding_type='post'\n",
        "sample_sequences = tokenizer.texts_to_sequences(test_data)\n",
        "fakes_padded = pad_sequences(sample_sequences, padding=padding_type)\n",
        "\n",
        "classes = model.predict(fakes_padded)"
      ],
      "execution_count": 43,
      "outputs": []
    },
    {
      "cell_type": "code",
      "metadata": {
        "id": "s7CJKv9-RqY5",
        "colab_type": "code",
        "colab": {
          "base_uri": "https://localhost:8080/",
          "height": 198
        },
        "outputId": "7e574e28-e803-4b88-b7b3-652893f08284"
      },
      "source": [
        "import pandas as pd\n",
        "test=pd.read_csv('/content/drive/My Drive/Test.csv')\n",
        "test.head()"
      ],
      "execution_count": 44,
      "outputs": [
        {
          "output_type": "execute_result",
          "data": {
            "text/html": [
              "<div>\n",
              "<style scoped>\n",
              "    .dataframe tbody tr th:only-of-type {\n",
              "        vertical-align: middle;\n",
              "    }\n",
              "\n",
              "    .dataframe tbody tr th {\n",
              "        vertical-align: top;\n",
              "    }\n",
              "\n",
              "    .dataframe thead th {\n",
              "        text-align: right;\n",
              "    }\n",
              "</style>\n",
              "<table border=\"1\" class=\"dataframe\">\n",
              "  <thead>\n",
              "    <tr style=\"text-align: right;\">\n",
              "      <th></th>\n",
              "      <th>Filename</th>\n",
              "      <th>Category</th>\n",
              "    </tr>\n",
              "  </thead>\n",
              "  <tbody>\n",
              "    <tr>\n",
              "      <th>0</th>\n",
              "      <td>Test1001.jpg</td>\n",
              "      <td>NaN</td>\n",
              "    </tr>\n",
              "    <tr>\n",
              "      <th>1</th>\n",
              "      <td>Test1012.jpg</td>\n",
              "      <td>NaN</td>\n",
              "    </tr>\n",
              "    <tr>\n",
              "      <th>2</th>\n",
              "      <td>Test1022.jpg</td>\n",
              "      <td>NaN</td>\n",
              "    </tr>\n",
              "    <tr>\n",
              "      <th>3</th>\n",
              "      <td>Test1071.jpg</td>\n",
              "      <td>NaN</td>\n",
              "    </tr>\n",
              "    <tr>\n",
              "      <th>4</th>\n",
              "      <td>Test1122.jpg</td>\n",
              "      <td>NaN</td>\n",
              "    </tr>\n",
              "  </tbody>\n",
              "</table>\n",
              "</div>"
            ],
            "text/plain": [
              "       Filename  Category\n",
              "0  Test1001.jpg       NaN\n",
              "1  Test1012.jpg       NaN\n",
              "2  Test1022.jpg       NaN\n",
              "3  Test1071.jpg       NaN\n",
              "4  Test1122.jpg       NaN"
            ]
          },
          "metadata": {
            "tags": []
          },
          "execution_count": 44
        }
      ]
    },
    {
      "cell_type": "code",
      "metadata": {
        "id": "cRQIGPHERrce",
        "colab_type": "code",
        "colab": {}
      },
      "source": [
        "test_dataset=[]\n",
        "for i in range(len(test)):\n",
        "    test_dataset.append(m[test['Filename'][i]])"
      ],
      "execution_count": 45,
      "outputs": []
    },
    {
      "cell_type": "code",
      "metadata": {
        "id": "DHxkRyh5RyT2",
        "colab_type": "code",
        "colab": {}
      },
      "source": [
        "i=0\n",
        "\n",
        "for files in os.listdir(path):\n",
        "  if(test_data[i]==\"\"):\n",
        "    m[files]=2\n",
        "  elif (classes[i] > 0.4):\n",
        "    m[files]=1\n",
        "  else:\n",
        "    m[files]=0\n",
        "  i+=1\n",
        "\n",
        "data=[\"Negative\" ,\"Positive\" , \"Random\"]\n",
        "\n",
        "\n",
        "m1=dict()\n",
        "for i in range(len(test)):\n",
        "  m1[test['Filename'][i]]=data[m[test['Filename'][i]]]\n",
        "\n",
        "\n",
        "df = pd.DataFrame(list(m1.items()),columns = ['Filename','Category']) \n",
        "\n",
        "df.to_csv('submission_embedding.csv',index=False)"
      ],
      "execution_count": 51,
      "outputs": []
    },
    {
      "cell_type": "code",
      "metadata": {
        "id": "c17tMrv1ShEt",
        "colab_type": "code",
        "colab": {
          "base_uri": "https://localhost:8080/",
          "height": 198
        },
        "outputId": "86cdb884-64ff-427c-f8bd-2d42936b97a5"
      },
      "source": [
        "df.head()"
      ],
      "execution_count": 49,
      "outputs": [
        {
          "output_type": "execute_result",
          "data": {
            "text/html": [
              "<div>\n",
              "<style scoped>\n",
              "    .dataframe tbody tr th:only-of-type {\n",
              "        vertical-align: middle;\n",
              "    }\n",
              "\n",
              "    .dataframe tbody tr th {\n",
              "        vertical-align: top;\n",
              "    }\n",
              "\n",
              "    .dataframe thead th {\n",
              "        text-align: right;\n",
              "    }\n",
              "</style>\n",
              "<table border=\"1\" class=\"dataframe\">\n",
              "  <thead>\n",
              "    <tr style=\"text-align: right;\">\n",
              "      <th></th>\n",
              "      <th>Filename</th>\n",
              "      <th>Category</th>\n",
              "    </tr>\n",
              "  </thead>\n",
              "  <tbody>\n",
              "    <tr>\n",
              "      <th>0</th>\n",
              "      <td>Test1001.jpg</td>\n",
              "      <td>Positive</td>\n",
              "    </tr>\n",
              "    <tr>\n",
              "      <th>1</th>\n",
              "      <td>Test1012.jpg</td>\n",
              "      <td>Positive</td>\n",
              "    </tr>\n",
              "    <tr>\n",
              "      <th>2</th>\n",
              "      <td>Test1022.jpg</td>\n",
              "      <td>Positive</td>\n",
              "    </tr>\n",
              "    <tr>\n",
              "      <th>3</th>\n",
              "      <td>Test1071.jpg</td>\n",
              "      <td>Negative</td>\n",
              "    </tr>\n",
              "    <tr>\n",
              "      <th>4</th>\n",
              "      <td>Test1122.jpg</td>\n",
              "      <td>Positive</td>\n",
              "    </tr>\n",
              "  </tbody>\n",
              "</table>\n",
              "</div>"
            ],
            "text/plain": [
              "       Filename  Category\n",
              "0  Test1001.jpg  Positive\n",
              "1  Test1012.jpg  Positive\n",
              "2  Test1022.jpg  Positive\n",
              "3  Test1071.jpg  Negative\n",
              "4  Test1122.jpg  Positive"
            ]
          },
          "metadata": {
            "tags": []
          },
          "execution_count": 49
        }
      ]
    },
    {
      "cell_type": "code",
      "metadata": {
        "id": "I8ff3V3-SiPq",
        "colab_type": "code",
        "colab": {}
      },
      "source": [
        "classes = model_cnn.predict(fakes_padded)\n",
        "\n",
        "test_dataset=[]\n",
        "for i in range(len(test)):\n",
        "    test_dataset.append(m[test['Filename'][i]])\n",
        "  \n",
        "i=0\n",
        "m=dict()\n",
        "for files in os.listdir(path):\n",
        "  if(test_data[i]==\"\"):\n",
        "    m[files]=2\n",
        "  elif (classes[i] > 0.4):\n",
        "    m[files]=1\n",
        "  else:\n",
        "    m[files]=0\n",
        "  i+=1\n",
        "\n",
        "data=[\"Negative\" ,\"Positive\" , \"Random\"]\n",
        "\n",
        "\n",
        "m1=dict()\n",
        "for i in range(len(test)):\n",
        "  m1[test['Filename'][i]]=data[m[test['Filename'][i]]]\n",
        "\n",
        "\n",
        "df = pd.DataFrame(list(m1.items()),columns = ['Filename','Category']) \n",
        "\n",
        "df.to_csv('submission_cnn.csv',index=False)"
      ],
      "execution_count": 52,
      "outputs": []
    },
    {
      "cell_type": "code",
      "metadata": {
        "id": "zPAMMJAlS7yI",
        "colab_type": "code",
        "colab": {}
      },
      "source": [
        "classes = model_gru.predict(fakes_padded)\n",
        "\n",
        "test_dataset=[]\n",
        "for i in range(len(test)):\n",
        "    test_dataset.append(m[test['Filename'][i]])\n",
        "  \n",
        "i=0\n",
        "m=dict()\n",
        "for files in os.listdir(path):\n",
        "  if(test_data[i]==\"\"):\n",
        "    m[files]=2\n",
        "  elif (classes[i] > 0.3):\n",
        "    m[files]=1\n",
        "  else:\n",
        "    m[files]=0\n",
        "  i+=1\n",
        "\n",
        "data=[\"Negative\" ,\"Positive\" , \"Random\"]\n",
        "\n",
        "\n",
        "m1=dict()\n",
        "for i in range(len(test)):\n",
        "  m1[test['Filename'][i]]=data[m[test['Filename'][i]]]\n",
        "\n",
        "\n",
        "df = pd.DataFrame(list(m1.items()),columns = ['Filename','Category']) \n",
        "\n",
        "df.to_csv('submission_gru.csv',index=False)"
      ],
      "execution_count": 54,
      "outputs": []
    },
    {
      "cell_type": "code",
      "metadata": {
        "id": "8enLrgImTqIB",
        "colab_type": "code",
        "colab": {}
      },
      "source": [
        "classes = model_bidi_lstm.predict(fakes_padded)\n",
        "\n",
        "test_dataset=[]\n",
        "for i in range(len(test)):\n",
        "    test_dataset.append(m[test['Filename'][i]])\n",
        "  \n",
        "i=0\n",
        "m=dict()\n",
        "for files in os.listdir(path):\n",
        "  if(test_data[i]==\"\"):\n",
        "    m[files]=2\n",
        "  elif (classes[i] > 0.3):\n",
        "    m[files]=1\n",
        "  else:\n",
        "    m[files]=0\n",
        "  i+=1\n",
        "\n",
        "data=[\"Negative\" ,\"Positive\" , \"Random\"]\n",
        "\n",
        "\n",
        "m1=dict()\n",
        "for i in range(len(test)):\n",
        "  m1[test['Filename'][i]]=data[m[test['Filename'][i]]]\n",
        "\n",
        "\n",
        "df = pd.DataFrame(list(m1.items()),columns = ['Filename','Category']) \n",
        "\n",
        "df.to_csv('submission_bidi.csv',index=False)"
      ],
      "execution_count": 56,
      "outputs": []
    },
    {
      "cell_type": "code",
      "metadata": {
        "id": "ONglmUfIT2VU",
        "colab_type": "code",
        "colab": {}
      },
      "source": [
        "classes = model_multi_bidi_lstm.predict(fakes_padded)\n",
        "\n",
        "test_dataset=[]\n",
        "for i in range(len(test)):\n",
        "    test_dataset.append(m[test['Filename'][i]])\n",
        "  \n",
        "i=0\n",
        "m=dict()\n",
        "for files in os.listdir(path):\n",
        "  if(test_data[i]==\"\"):\n",
        "    m[files]=2\n",
        "  elif (classes[i] > 0.3):\n",
        "    m[files]=1\n",
        "  else:\n",
        "    m[files]=0\n",
        "  i+=1\n",
        "\n",
        "data=[\"Negative\" ,\"Positive\" , \"Random\"]\n",
        "\n",
        "\n",
        "m1=dict()\n",
        "for i in range(len(test)):\n",
        "  m1[test['Filename'][i]]=data[m[test['Filename'][i]]]\n",
        "\n",
        "\n",
        "df = pd.DataFrame(list(m1.items()),columns = ['Filename','Category']) \n",
        "\n",
        "df.to_csv('submission_multi_bidi.csv',index=False)"
      ],
      "execution_count": 58,
      "outputs": []
    },
    {
      "cell_type": "code",
      "metadata": {
        "id": "FkKrv3LuT2TD",
        "colab_type": "code",
        "colab": {}
      },
      "source": [
        ""
      ],
      "execution_count": null,
      "outputs": []
    }
  ]
}